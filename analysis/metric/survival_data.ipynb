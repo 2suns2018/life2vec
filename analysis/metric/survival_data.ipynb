{
 "cells": [
  {
   "cell_type": "code",
   "execution_count": null,
   "id": "e5e80575-0083-4586-bd7f-b18c44689884",
   "metadata": {},
   "outputs": [],
   "source": [
    "### save supplementary data\n",
    "import os, sys\n",
    "currentdir = os.path.dirname(os.path.realpath(\"__file__\"))\n",
    "parentdir = os.path.dirname(os.path.dirname(os.path.dirname(os.path.realpath(\"__file__\"))))\n",
    "sys.path.append(parentdir)\n",
    "\n",
    "from joblib import Parallel, delayed\n",
    "import numpy as np\n",
    "import pickle \n",
    "import pandas as pd\n",
    "import torch\n",
    "import matplotlib.pyplot as plt\n",
    "import torchmetrics\n",
    "import seaborn as sns\n",
    "import glob\n",
    "from tqdm import tqdm\n",
    "from copy import deepcopy\n",
    "from src.transformer.metrics import AUL, CorrectedMCC, CorrectedBAcc, CorrectedF1\n",
    "from src.analysis.metrics.cartesian import cartesian_jit\n",
    "\n",
    "from torchmetrics import MatthewsCorrCoef, F1Score, Accuracy\n",
    "from sklearn.utils import resample\n",
    "from scipy.stats import median_abs_deviation as mad\n",
    "import time\n",
    "import cmcrameri.cm as cmc\n",
    "import matplotlib.colors as clr\n",
    "from matplotlib.ticker import MultipleLocator, LinearLocator, AutoMinorLocator\n",
    "plt.rcParams[\"grid.linestyle\"] =  \":\"\n",
    "plt.rcParams[\"axes.edgecolor\"] = \"gray\"\n",
    "plt.rcParams[\"axes.linewidth\"] = 0.7\n",
    "\n",
    "plt.rcParams[\"font.family\"] = \"sans-serif\"\n",
    "plt.rcParams[\"font.sans-serif\"] = \"Arial\""
   ]
  },
  {
   "cell_type": "code",
   "execution_count": null,
   "id": "925bebb3-9cc5-406f-9f98-1143eb11a649",
   "metadata": {},
   "outputs": [],
   "source": [
    "def load_stats(path):\n",
    "    data = {}\n",
    "    with open(path + \"prb.npy\", \"rb\") as f:\n",
    "        data[\"prb\"] = np.load(f)\n",
    "    with open(path + \"trg.npy\", \"rb\") as f:\n",
    "        data[\"trg\"] = np.load(f)\n",
    "    with open(path + \"id.npy\", \"rb\") as f:\n",
    "        data[\"id\"] = np.load(f)\n",
    "    return data"
   ]
  },
  {
   "cell_type": "code",
   "execution_count": null,
   "id": "3ef923dc-3789-4b84-809f-b018dd9f0d89",
   "metadata": {},
   "outputs": [],
   "source": [
    "v = \"4.02\"\n",
    "save_path = r\"../analysis/plots/%s/\" %v"
   ]
  },
  {
   "cell_type": "code",
   "execution_count": null,
   "id": "e66298c1-8ad2-4d22-9143-2b514b60d9b8",
   "metadata": {},
   "outputs": [],
   "source": [
    "np.random.seed(0)\n",
    "data = { \"ltv\": load_stats(r\"..\\\\predictions\\\\v15\\\\cls\\\\eos_l2v\\\\%s\\\\\"%v),\n",
    "               \"rnn\": load_stats(r\"..\\\\predictions\\\\v15\\\\cls\\\\eos_rnn\\\\1.0\\\\\"),\n",
    "               \"nn\": load_stats(r\"..\\\\predictions\\\\v15\\\\tcls\\\\eos_tab\\\\1.0\\\\\"),\n",
    "               \"logistic\": load_stats(r\"..\\\\predictions\\\\v15\\\\tcls\\\\eos_tab\\\\3.1\\\\\"),\n",
    "               \"table\": load_stats(r\"..\\\\predictions\\\\v15\\\\tcls\\\\eos_tab\\\\3.2\\\\\")}\n",
    "np.random.seed(0)\n",
    "data[\"rnd\"]=np.random.uniform(size=data[\"rnn\"][\"trg\"].shape[0])\n"
   ]
  },
  {
   "cell_type": "code",
   "execution_count": null,
   "id": "87d1c677-bf2b-4b56-aaf2-b2c1e08cac14",
   "metadata": {},
   "outputs": [],
   "source": [
    "## Data for the overall comparison of performances\n",
    "np.random.seed(0)\n",
    "df = pd.DataFrame({\"true_label (deceased)\": data[\"ltv\"][\"trg\"].astype(bool),\n",
    "              \"l2v_pred\":data[\"ltv\"][\"prb\"] >= 0.5,\n",
    "              \"rnn_pred\":data[\"rnn\"][\"prb\"] >=0.5,\n",
    "              \"nn_pred\": data[\"nn\"][\"prb\"] >=0.5,\n",
    "              \"mt_pred\": data[\"table\"][\"prb\"] >=0.5,\n",
    "              \"lr_pred\": data[\"logistic\"][\"prb\"] >=0.5,\n",
    "              \"rnd_pred\": data[\"rnd\"] >= 0.5,\n",
    "              \"mjr_pred\": np.full(shape = data[\"rnd\"].shape, fill_value=True, dtype=bool)}).sample(frac=1).reset_index(drop=True)\n",
    "df.to_csv(save_path + \"survivalA_data_overall_comparison.csv\")\n",
    "df.head()"
   ]
  },
  {
   "cell_type": "code",
   "execution_count": null,
   "id": "c9195c7d-3726-4bb3-a7d7-24c11282f610",
   "metadata": {},
   "outputs": [],
   "source": []
  },
  {
   "cell_type": "code",
   "execution_count": null,
   "id": "cc5f63be-7472-4fc3-8da3-9fbd3ec3483a",
   "metadata": {},
   "outputs": [],
   "source": []
  }
 ],
 "metadata": {
  "kernelspec": {
   "display_name": "Python 3 (ipykernel)",
   "language": "python",
   "name": "python3"
  },
  "language_info": {
   "codemirror_mode": {
    "name": "ipython",
    "version": 3
   },
   "file_extension": ".py",
   "mimetype": "text/x-python",
   "name": "python",
   "nbconvert_exporter": "python",
   "pygments_lexer": "ipython3",
   "version": "3.9.7"
  }
 },
 "nbformat": 4,
 "nbformat_minor": 5
}
