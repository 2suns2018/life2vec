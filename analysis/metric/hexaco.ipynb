{
 "cells": [
  {
   "cell_type": "code",
   "execution_count": null,
   "metadata": {},
   "outputs": [],
   "source": [
    "import os, sys\n",
    "currentdir = os.path.dirname(os.path.realpath(\"__file__\"))\n",
    "parentdir = os.path.dirname(os.path.dirname(os.path.dirname(os.path.realpath(\"__file__\"))))\n",
    "sys.path.append(parentdir)\n",
    "\n",
    "from joblib import Parallel, delayed\n",
    "import numpy as np\n",
    "import pickle \n",
    "import pandas as pd\n",
    "import torch\n",
    "import matplotlib.pyplot as plt\n",
    "import torchmetrics\n",
    "import seaborn as sns\n",
    "import glob\n",
    "from tqdm import tqdm\n",
    "from copy import deepcopy\n",
    "from src.transformer.metrics import AUL, CorrectedMCC, CorrectedBAcc, CorrectedF1\n",
    "from src.analysis.metrics.cartesian import cartesian_jit\n",
    "\n",
    "from torchmetrics import MatthewsCorrCoef, F1Score, Accuracy\n",
    "from sklearn.utils import resample\n",
    "from scipy.stats import median_abs_deviation as mad\n",
    "import time\n",
    "import cmcrameri.cm as cmc\n",
    "import matplotlib.colors as clr\n",
    "from matplotlib.ticker import MultipleLocator, LinearLocator, AutoMinorLocator\n",
    "plt.rcParams[\"grid.linestyle\"] =  \":\"\n",
    "plt.rcParams[\"axes.edgecolor\"] = \"gray\"\n",
    "plt.rcParams[\"axes.linewidth\"] = 0.7\n",
    "\n",
    "plt.rcParams[\"font.family\"] = \"sans-serif\"\n",
    "plt.rcParams[\"font.sans-serif\"] = \"Helvetica\""
   ]
  },
  {
   "attachments": {},
   "cell_type": "markdown",
   "metadata": {},
   "source": [
    "#### Description\n",
    "This notebook is used to evaluate the *HEXACO* model (aka *personalities*)."
   ]
  },
  {
   "cell_type": "code",
   "execution_count": null,
   "metadata": {},
   "outputs": [],
   "source": [
    "cmap = cmc.batlowS\n",
    "cmap"
   ]
  },
  {
   "cell_type": "code",
   "execution_count": null,
   "metadata": {},
   "outputs": [],
   "source": [
    "save_path = r\"../plots/hexaco/\""
   ]
  },
  {
   "cell_type": "code",
   "execution_count": null,
   "metadata": {},
   "outputs": [],
   "source": [
    "mean = {\"rnd\": [.169, .177, .185, .174],\n",
    "        \"rnn\": [.111, .030, .050, .010],\n",
    "        \"l2v\": [.223, .237, .232, .220],\n",
    "        }\n",
    "ci_l = {\"rnd\":  [.151, .157, .166, .156],\n",
    "        \"rnn\":  [.111, .030, .048, .006],\n",
    "        \"l2v\":  [.198, .217, .210, .200]}\n",
    "\n",
    "ci_u = {\"rnd\":  [.188, .198, .205, .193],\n",
    "        \"rnn\":  [.121, .040, .059, .012],\n",
    "        \"l2v\":  [.251, .258, .255, .240]}\n",
    "\n",
    "fig, ax = plt.subplots(1,2, figsize=(15,5))\n",
    "x_tick = np.array([1,2,3,4])\n",
    "for i, k in enumerate(mean.keys()):\n",
    "    yerr = np.vstack([np.array(np.abs(np.array(mean[k]) - np.array(ci_l[k]))),\n",
    "                     np.array(np.abs(np.array(mean[k]) - np.array(ci_u[k])))])\n",
    "    ax[0].bar(x = x_tick + i*0.2, height = mean[k], yerr=yerr, width=0.2, capsize=5)\n",
    "ax[0].set_xticks(x_tick + 0.2)\n",
    "ax[0].set_xticklabels( [\"Q1\", \"Q2\", \"Q3\", \"Q4\"])\n",
    "ax[0].set_title(\"Macro F1-Score per Personality Aspect\")\n",
    "ax[0].set_ylabel(\"Score\")\n",
    "ax[0].set_xlabel(\"Aspect\")\n",
    "ax[0].tick_params(axis= \"y\", which=\"major\", width=1, length = 6, direction=\"out\", color=\"gray\")\n",
    "ax[0].tick_params(axis= \"y\", which=\"minor\", width=1, length =3, direction=\"out\", color=\"gray\")\n",
    "ax[0].tick_params(axis= \"x\", which=\"both\", width=1 , length =1)\n",
    "ax[0].yaxis.set_major_locator(MultipleLocator(0.05))\n",
    "ax[0].yaxis.set_minor_locator(AutoMinorLocator(5))\n",
    "sns.despine()\n",
    "\n",
    "mean = {\"rnd\": [-0.025, -0.013, 0.009, 0.010],\n",
    "        \"rnn\": [ 0.106,  0.086, 0.143, 0.096],\n",
    "        \"l2v\": [ 0.126,  0.129, 0.229, 0.109],\n",
    "        }\n",
    "\n",
    "mad = {\"rnd\":  [ 0.013,  0.018, 0.017, 0.013],\n",
    "        \"rnn\": [ 0.017,  0.017, 0.017, 0.017],\n",
    "        \"l2v\": [ 0.018,  0.015, 0.017, 0.018],\n",
    "        }\n",
    "\n",
    "\n",
    "x_tick = np.array([1,2,3,4])\n",
    "for i, k in enumerate(mean.keys()):\n",
    "    yerr = np.array(mad[k])\n",
    "    ax[1].bar(x = x_tick + i*0.2, height = mean[k], yerr=yerr, width=0.2, capsize=5)\n",
    "ax[1].set_xticks(x_tick + 0.2)\n",
    "ax[1].set_xticklabels( [\"Q1\", \"Q2\", \"Q3\", \"Q4\"])\n",
    "ax[1].set_title(\"Cohen's Quadratic Kappa Score per Personality Aspect\")\n",
    "ax[1].set_ylabel(\"Score\")\n",
    "ax[1].set_xlabel(\"Aspect\")\n",
    "ax[1].tick_params(axis= \"y\", which=\"major\", width=1, length = 6, direction=\"out\", color=\"gray\")\n",
    "ax[1].tick_params(axis= \"y\", which=\"minor\", width=1, length =3, direction=\"out\", color=\"gray\")\n",
    "ax[1].tick_params(axis= \"x\", which=\"both\", width=1 , length =1)\n",
    "ax[1].yaxis.set_major_locator(MultipleLocator(0.05))\n",
    "ax[1].yaxis.set_minor_locator(AutoMinorLocator(5))\n",
    "ax[1].axhline(0.0, color=\"gray\", linewidth=0.5, linestyle= \":\")\n",
    "\n",
    "sns.despine()\n",
    "\n",
    "plt.savefig(save_path + \"performance.svg\", format=\"svg\")\n",
    "\n",
    "plt.show()"
   ]
  }
 ],
 "metadata": {
  "kernelspec": {
   "display_name": "Python 3 (ipykernel)",
   "language": "python",
   "name": "python3"
  },
  "language_info": {
   "codemirror_mode": {
    "name": "ipython",
    "version": 3
   },
   "file_extension": ".py",
   "mimetype": "text/x-python",
   "name": "python",
   "nbconvert_exporter": "python",
   "pygments_lexer": "ipython3",
   "version": "3.9.7"
  }
 },
 "nbformat": 4,
 "nbformat_minor": 4
}
