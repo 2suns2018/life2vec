{
 "cells": [
  {
   "cell_type": "code",
   "execution_count": 1,
   "id": "5ac861ac-27c2-4658-967f-54d4c5c2f6d7",
   "metadata": {},
   "outputs": [],
   "source": [
    "import dask.dataframe as dd\n",
    "import numpy as np\n",
    "import pickle\n",
    "\n",
    "v = \"4.02\"\n",
    "id_path = r\"..\\\\cls\\\\eos_l2v\\\\%s\\\\\" %v\n",
    "corpus_path = r\"..\\\\corpus\\\\survival_set\\\\sentences\\\\test\\\\part*\""
   ]
  },
  {
   "attachments": {},
   "cell_type": "markdown",
   "id": "2fe22025",
   "metadata": {},
   "source": [
    "#### Description\n",
    "This notebook is used to aggregate the group data for the *Mortality* model evaluation"
   ]
  },
  {
   "cell_type": "code",
   "execution_count": 4,
   "id": "2891cd2c-2ee5-4c92-8091-5bc05c5b4524",
   "metadata": {},
   "outputs": [],
   "source": [
    "with open(id_path + \"id.npy\", \"rb\") as f:\n",
    "    idx = np.load(f)\n",
    "    \n",
    "data = dd.read_parquet(corpus_path)\n",
    "data = data[~data[\"AFTER_THRESHOLD\"]]\n",
    "data[\"LENGTH\"] = data[\"SENTENCE\"].apply(lambda x: len(x.split()), meta=(None, \"int\"))\n",
    "data[\"HAS_HEALTH\"] = data[\"LENGTH\"].apply(lambda x: x<=3, meta=(None, \"int\"))"
   ]
  },
  {
   "cell_type": "code",
   "execution_count": 5,
   "id": "81aa7e81-51b7-4d31-8a77-585addd0047d",
   "metadata": {},
   "outputs": [],
   "source": [
    "seqlen = data.groupby(\"PERSON_ID\")[\"LENGTH\"].sum().compute()\n",
    "with open(id_path + \"seqlen.pkl\", \"wb\") as f:\n",
    "    pickle.dump(seqlen.to_dict(), f)"
   ]
  },
  {
   "cell_type": "code",
   "execution_count": 10,
   "id": "56c66e76-4c2d-4c47-ae91-141db0136140",
   "metadata": {},
   "outputs": [],
   "source": [
    "has_health =  data.groupby(\"PERSON_ID\")[\"HAS_HEALTH\"].sum().compute()\n",
    "with open(id_path + \"has_health.pkl\", \"wb\") as f:\n",
    "    pickle.dump(has_health.to_dict(), f)"
   ]
  }
 ],
 "metadata": {
  "kernelspec": {
   "display_name": "Python 3 (ipykernel)",
   "language": "python",
   "name": "python3"
  },
  "language_info": {
   "codemirror_mode": {
    "name": "ipython",
    "version": 3
   },
   "file_extension": ".py",
   "mimetype": "text/x-python",
   "name": "python",
   "nbconvert_exporter": "python",
   "pygments_lexer": "ipython3",
   "version": "3.9.7"
  }
 },
 "nbformat": 4,
 "nbformat_minor": 5
}
