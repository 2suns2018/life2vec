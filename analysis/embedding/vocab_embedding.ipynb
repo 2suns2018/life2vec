{
 "cells": [
  {
   "cell_type": "code",
   "execution_count": null,
   "id": "1ab5ef4c-a420-4d5a-8dc4-dbc735d3e05b",
   "metadata": {},
   "outputs": [],
   "source": [
    "import pandas as pd\n",
    "import numpy as np\n",
    "from scipy.cluster.vq import whiten\n",
    "from sklearn.preprocessing import LabelEncoder, StandardScaler\n",
    "from sklearn.manifold import TSNE\n",
    "import matplotlib.pyplot as plt\n",
    "import matplotlib.patches as patches\n",
    "from scipy.spatial.distance import cosine\n",
    "from sklearn.metrics.pairwise import cosine_distances\n",
    "import seaborn as sns\n",
    "sns.set(style=\"white\")\n",
    "import cmcrameri.cm as cmc\n",
    "import pacmap\n",
    "import trimap\n",
    "import umap\n",
    "import random\n",
    "\n",
    "### BOKEH\n",
    "from bokeh.models import HoverTool, ColumnDataSource, Plot, Scatter, BoxZoomTool, ResetTool\n",
    "from bokeh.io import push_notebook, show, output_notebook\n",
    "from bokeh.layouts import row\n",
    "from bokeh.plotting import figure\n",
    "from bokeh.resources import INLINE\n",
    "output_notebook(INLINE)"
   ]
  },
  {
   "attachments": {},
   "cell_type": "markdown",
   "id": "121242ca",
   "metadata": {},
   "source": [
    "#### Description\n",
    "This notebook is used to visualise the Embedding space of concepts"
   ]
  },
  {
   "cell_type": "code",
   "execution_count": null,
   "id": "7bbfa36e-7821-4743-bb9e-29bc562e3ccf",
   "metadata": {},
   "outputs": [],
   "source": [
    "v = 4.02\n",
    "save_path = r\"../plots/%s/\" %v\n",
    "def rgb(hex):\n",
    "    hex = hex[1:]\n",
    "    rgb = []\n",
    "    for i in (0, 2, 4):\n",
    "        decimal = int(hex[i:i+2], 16)\n",
    "        rgb.append(decimal/256)\n",
    "    rgb.append(1)\n",
    "    return tuple(rgb)\n",
    "def return_distances(token: str, x):\n",
    "    idx = np.argwhere(vocab[\"TOKEN\"].values == token).item()\n",
    "    return np.einsum(\"j,ij -> i\", x[idx], x)\n",
    "\n",
    "def cosine_distances(token: str, x):\n",
    "    output = list()\n",
    "    idx = np.argwhere(vocab[\"TOKEN\"].values == token).item()\n",
    "    for i in range(x.shape[0]):\n",
    "        output.append(cosine(x[idx], x[i]))\n",
    "    return np.array(output)\n",
    "\n",
    "\n",
    "def plot_region(r):\n",
    "    plt.hlines(y = r[0][0], xmin=r[1][0], xmax=r[1][1], linewidth=1.5, linestyle=\"dotted\", color=\"black\")\n",
    "    plt.hlines(y = r[0][1], xmin=r[1][0], xmax=r[1][1], linewidth=1.5, linestyle=\"dotted\", color=\"black\")\n",
    "    plt.vlines(x = r[1][0], ymin=r[0][0], ymax=r[0][1], linewidth=1.5, linestyle=\"dotted\", color=\"black\")\n",
    "    plt.vlines(x = r[1][1], ymin=r[0][0], ymax=r[0][1], linewidth=1.5, linestyle=\"dotted\", color=\"black\")\n",
    "    \n",
    "def plot_square(s, width):\n",
    "    sx = s[0]\n",
    "    sy = s[1]\n",
    "    plt.hlines(y = sy, xmin=sx, xmax=sx+width, linewidth=2, linestyle=\"dotted\", color=\"black\")\n",
    "    \n",
    "    plt.hlines(y = sy - width, xmin=sx, xmax=sx + width, linewidth=2, linestyle=\"dotted\", color=\"black\")\n",
    "    plt.vlines(x = sx, ymin=sy-width, ymax=sy, linewidth=2, linestyle=\"dotted\", color=\"black\")\n",
    "    plt.vlines(x = sx + width, ymin=sy-width, ymax=sy, linewidth=2, linestyle=\"dotted\", color=\"black\")"
   ]
  },
  {
   "cell_type": "code",
   "execution_count": null,
   "id": "b658ffc3-7dcc-46e0-b500-63a1566836ca",
   "metadata": {},
   "outputs": [],
   "source": [
    "on_linux = False\n",
    "if on_linux:\n",
    "    vocab_path = r\"../vocab/global_set/result.tsv\"\n",
    "    data_path = r\"../token_embeddings/tensors.tsv\"\n",
    "else:\n",
    "    vocab_path = r\"K:\\22SSI\\Germans\\processed\\vocab\\global_set\\result.tsv\"\n",
    "    data_path = r\"O:\\projekter\\PY000017_D\\logs\\v15\\pre_training\\version_1.33\\00029\\token_embeddings\\tensors.tsv\"\n",
    "vocab = pd.read_csv(vocab_path, sep=\"\\t\").set_index(\"ID\")\n",
    "data = pd.read_csv(data_path, sep=\"\\t\", header=None)\n",
    "data.head()"
   ]
  },
  {
   "cell_type": "code",
   "execution_count": null,
   "id": "ef7674a5-4c33-4330-b086-8c6e3754efa4",
   "metadata": {},
   "outputs": [],
   "source": [
    "le = LabelEncoder()\n",
    "labels = le.fit_transform(vocab[\"CATEGORY\"])\n",
    "print(le.classes_)\n",
    "for i, c in enumerate(le.classes_):\n",
    "    print(i,c)"
   ]
  },
  {
   "cell_type": "code",
   "execution_count": null,
   "id": "d9bda0e6-34af-48ce-9fde-1a1ae30a1589",
   "metadata": {},
   "outputs": [],
   "source": [
    "c = []\n",
    "cmap = cmc.batlowS\n",
    "for l in labels:\n",
    "    if l in [2, 3,4]: # C_ADIAG, C_INDM, C_PATTYPE\n",
    "        c.append(\"#009E73\") #sky blue\n",
    "    elif l == 11:     # SALARY\n",
    "        c.append(cmap(0))\n",
    "    elif l==7:        # MUNICIPALITY\n",
    "        c.append(\"#cc79a7\") # reddish purple\n",
    "    elif l in [6, 15]: # MONTH, YEAR\n",
    "        c.append(\"#0072b2\") #blue\n",
    "    elif l in [1, 8, 9]: #BACKGROUND, SOC\n",
    "        c.append(\"#e69f00\") #orange\n",
    "    elif l == 12: #WORK_INDUSTRY\n",
    "        c.append(\"#999999\") #vermilion\n",
    "    elif l==13: #WORK_POSITION\n",
    "        c.append(\"#d55e00\") #vermilion\n",
    "    else:\n",
    "        c.append(\"#000000\") #black\n"
   ]
  },
  {
   "cell_type": "code",
   "execution_count": null,
   "id": "f37e07bd-7860-4ff1-9cf6-765a42c3b1b0",
   "metadata": {},
   "outputs": [],
   "source": [
    "x = data.values\n",
    "x_ = np.delete(x, [0,4,5,6,7,8])\n",
    "x -= x_.mean(0)\n",
    "xh = whiten(x)"
   ]
  },
  {
   "attachments": {},
   "cell_type": "markdown",
   "id": "8072fcd4-3399-49d8-96a3-8c38c68122dc",
   "metadata": {},
   "source": [
    "### Visualisation with different Projection Methods"
   ]
  },
  {
   "cell_type": "code",
   "execution_count": null,
   "id": "57dd000c-7569-4057-b643-01843b21c7b1",
   "metadata": {},
   "outputs": [],
   "source": [
    "projector = pacmap.PaCMAP(n_components=2, n_neighbors=None, random_state=0, MN_ratio=1, FP_ratio=10, distance=\"angular\", lr=0.5)\n",
    "xp = projector.fit_transform(xh)\n",
    "fig = plt.figure(figsize=(10,10))\n",
    "plt.scatter(xp[:,0], xp[:,1], c=c,  s=50, edgecolors=\"white\", linewidths=0.5, alpha=0.8)\n",
    "plt.autoscale()\n",
    "plt.savefig(save_path + \"life_space_pacmap.svg\", format=\"svg\")\n",
    "plt.show()"
   ]
  },
  {
   "cell_type": "code",
   "execution_count": null,
   "id": "33fcf682-6ae1-4818-8529-2d41cad65138",
   "metadata": {},
   "outputs": [],
   "source": [
    "### DENSMAP\n",
    "param = dict(n_components=2,\n",
    "             densmap=True,\n",
    "             dens_lambda=0.2, \n",
    "             random_state=0)\n",
    "prj = umap.UMAP(**param)\n",
    "xp = prj.fit_transform(xh)\n",
    "fig = plt.figure(figsize=(10,10))\n",
    "plt.scatter(xp[:,0], xp[:,1], c=c,  s=50, edgecolors=\"white\", linewidths=0.5, alpha=0.8)\n",
    "plt.autoscale()\n",
    "plt.savefig(save_path + \"life_space_densmap.svg\", format=\"svg\")\n",
    "plt.show()"
   ]
  },
  {
   "cell_type": "code",
   "execution_count": null,
   "id": "baf8787c-86e1-452f-8a13-3bbdb2cd4e2a",
   "metadata": {},
   "outputs": [],
   "source": [
    "### UMAP\n",
    "param = dict(n_components=2,\n",
    "             #n_neighbors=50,\n",
    "             random_state=0)\n",
    "prj = umap.UMAP(**param)\n",
    "xp = prj.fit_transform(xh)\n",
    "fig = plt.figure(figsize=(10,10))\n",
    "plt.scatter(xp[:,0], xp[:,1], c=c,  s=50, edgecolors=\"white\", linewidths=0.5, alpha=0.8)\n",
    "#plt.tight_layout()\n",
    "plt.autoscale()\n",
    "plt.savefig(save_path + \"life_space_umap.svg\", format=\"svg\")\n",
    "plt.show()"
   ]
  },
  {
   "cell_type": "code",
   "execution_count": null,
   "id": "e9472fc2-c05e-4f70-9104-9d72324f2086",
   "metadata": {},
   "outputs": [],
   "source": [
    "#prj = TSNE(n_components=2, metric=\"cosine\", perplexity=30, early_exaggeration=25, n_jobs=5)\n",
    "#xp = prj.fit_transform(x)\n",
    "#fig = plt.figure(figsize=(10,10))\n",
    "#plt.scatter(xp[:,0], xp[:,1], c=c,  s=50, edgecolors=\"white\", linewidths=0.5, alpha=0.8)\n",
    "#plt.tight_layout()\n",
    "#plt.savefig(save_path + \"life_space_tsne.svg\", format=\"svg\")\n",
    "#plt.show()"
   ]
  },
  {
   "attachments": {},
   "cell_type": "markdown",
   "id": "1ed2a359-979e-4510-be0f-6771d4a89667",
   "metadata": {},
   "source": [
    "## Bokeh"
   ]
  },
  {
   "cell_type": "code",
   "execution_count": null,
   "id": "31c2cc34-0783-4a32-a1ec-c3dda67f10ff",
   "metadata": {},
   "outputs": [],
   "source": [
    "projector = pacmap.PaCMAP(n_components=2, n_neighbors=None, random_state=0, MN_ratio=1, FP_ratio=10, distance=\"angular\", lr=0.5)\n",
    "xp = projector.fit_transform(xh)\n",
    "source = ColumnDataSource(dict(x=xp[:,0], y=xp[:,1], color=c, concept=vocab[\"TOKEN\"].values))\n",
    "tooltips = [(\"Token\", \"@concept\"), \n",
    "            (\"X\", \"@x\"),\n",
    "            (\"Y\", \"@y\")]\n",
    "plot = Plot(title = \"Life Event Embediing Space\",\n",
    "            width=600, toolbar_location=\"below\")\n",
    "glyph = Scatter(x=\"x\", y=\"y\", fill_color=\"color\", line_color=\"white\", line_width=0.5, size = 7)\n",
    "\n",
    "plot.add_glyph(source, glyph)\n",
    "plot.add_tools(HoverTool(tooltips=tooltips))\n",
    "plot.add_tools(BoxZoomTool())\n",
    "plot.add_tools(ResetTool())\n",
    "\n",
    "show(plot)"
   ]
  },
  {
   "cell_type": "code",
   "execution_count": null,
   "id": "5ce194a1-b0f8-48ce-86fb-9b0919fc33e6",
   "metadata": {},
   "outputs": [],
   "source": [
    "fig = plt.figure(figsize=(10,7))\n",
    "plt.scatter(xp[:,0], xp[:,1], c=c,  s=30, edgecolors=\"white\", linewidths=0.5, alpha=0.8)\n",
    "plt.axis(\"scaled\")\n",
    "p = [patches.Patch(color= c,label = l) for c, l in zip([rgb(\"#009E73\"), cmap(0), rgb(\"#cc79a7\"), rgb(\"#0072b2\"), rgb(\"#e69f00\"), rgb(\"#999999\"), rgb(\"#d55e00\"), rgb(\"#000000\") ],\n",
    "                                          [\"Health\", \"Income\", \"Municipality\", \"Birthday\", \"Social\", \"Industry\", \"Position\", \"Others\"])]\n",
    "plt.legend(handles=p)\n",
    "plt.tight_layout()\n",
    "\n",
    "# plt.savefig(save_path + \"life_space.svg\", format=\"svg\")\n",
    "\n",
    "plt.show()"
   ]
  },
  {
   "cell_type": "code",
   "execution_count": null,
   "id": "a8db9942-d7a3-43fb-af42-9832ad2be755",
   "metadata": {},
   "outputs": [],
   "source": [
    "fig = plt.figure(figsize=(10,10))\n",
    "plt.scatter(xp[:,0], xp[:,1], c=c,  s=50, edgecolors=\"white\", linewidths=0.5, alpha=0.8)\n",
    "p = [patches.Patch(color= c,label = l) for c, l in zip([rgb(\"#009E73\"), cmap(0), rgb(\"#cc79a7\"), rgb(\"#0072b2\"), rgb(\"#e69f00\"), rgb(\"#999999\"), rgb(\"#d55e00\"), rgb(\"#000000\") ],\n",
    "                                          [\"Health\", \"Income\", \"Municipality\", \"Birthday\", \"Social\", \"Industry\", \"Position\", \"Others\"])]\n",
    "\n",
    "rS = [-1, 18.2]\n",
    "wS = 2.6\n",
    "\n",
    "rP3 = [3.2, 0.5]\n",
    "wP3 = 2\n",
    "\n",
    "rP4 = [-9.9,-6.3]\n",
    "wP4 = 2\n",
    "\n",
    "rI1 = [-3.6,-17.6]\n",
    "wI1 = 2\n",
    "\n",
    "rINC = [17, -5]\n",
    "wINC = 3\n",
    "\n",
    "rO= [-17.3,-0.4]\n",
    "wO=1.2\n",
    "plot_square(rS, width = wS)\n",
    "plot_square(rP3, width = wP3)\n",
    "plot_square(rP4, width = wP4)\n",
    "\n",
    "plot_square(rI1, width = wI1)\n",
    "plot_square(rINC, width = wINC)\n",
    "plot_square(rO, width = wO)\n",
    "\n",
    "plt.legend(handles=p)\n",
    "\n",
    "plt.axis(\"scaled\")\n",
    "plt.axis(\"off\")\n",
    "plt.tight_layout()\n",
    "plt.savefig(save_path + \"life_space.svg\", format=\"svg\")\n",
    "plt.show()"
   ]
  },
  {
   "cell_type": "code",
   "execution_count": null,
   "id": "7a200798-8f18-405d-ad8b-cde165a891b2",
   "metadata": {},
   "outputs": [],
   "source": [
    "### sace areas separatelly\n",
    "fig = plt.subplots(figsize=(5,5))\n",
    "r = rP4\n",
    "w = wP4\n",
    "title = \"P4\"\n",
    "plt.scatter(xp[:,0], xp[:,1], c=c,  s=500, edgecolors=\"white\", linewidths=1, alpha=0.75)\n",
    "plt.xlim(r[0], r[0] + w)\n",
    "plt.ylim(r[1] - w, r[1])\n",
    "for i, v  in enumerate(vocab[\"TOKEN\"]):\n",
    "    plt.annotate(v, (xp[i,0], xp[i,1] + 0.05),  annotation_clip=True, c=\"gray\", fontsize = 15)\n",
    "plt.axis(\"off\")\n",
    "plt.tight_layout()\n",
    "plt.savefig(save_path + \"life_areas_%s.svg\" %title, format=\"svg\")\n",
    "plt.show()"
   ]
  },
  {
   "cell_type": "code",
   "execution_count": null,
   "id": "c3751409-38d6-4dc2-b111-d9b280907ab9",
   "metadata": {},
   "outputs": [],
   "source": [
    "#### Cosine Distance to Concept\n",
    "top_n = 10\n",
    "dist = cosine_distances(\"C16\", xh)\n",
    "idx = np.argsort(dist)[:top_n]\n",
    "for k ,v in zip(vocab[\"TOKEN\"].values[idx], dist[idx]):\n",
    "    print(k,\"%.3f\" %v)\n"
   ]
  },
  {
   "cell_type": "code",
   "execution_count": null,
   "id": "e3028798-37b0-43ab-9762-d59fb251e66a",
   "metadata": {},
   "outputs": [],
   "source": []
  }
 ],
 "metadata": {
  "kernelspec": {
   "display_name": "Python 3 (ipykernel)",
   "language": "python",
   "name": "python3"
  },
  "language_info": {
   "codemirror_mode": {
    "name": "ipython",
    "version": 3
   },
   "file_extension": ".py",
   "mimetype": "text/x-python",
   "name": "python",
   "nbconvert_exporter": "python",
   "pygments_lexer": "ipython3",
   "version": "3.9.7"
  }
 },
 "nbformat": 4,
 "nbformat_minor": 5
}
