{
 "cells": [
  {
   "cell_type": "code",
   "execution_count": null,
   "metadata": {},
   "outputs": [],
   "source": [
    "from sklearn.neighbors import kneighbors_graph\n",
    "from sklearn.metrics.pairwise import cosine_distances\n",
    "import seaborn as sns\n",
    "import networkx as nx\n",
    "import numpy as np\n",
    "import pandas as pd\n",
    "import matplotlib.pyplot as plt"
   ]
  },
  {
   "attachments": {},
   "cell_type": "markdown",
   "metadata": {},
   "source": [
    "This notebook is for the Windows"
   ]
  },
  {
   "cell_type": "code",
   "execution_count": null,
   "metadata": {},
   "outputs": [],
   "source": [
    "embedding_path = \"../token_embeddings/tensors.tsv\"\n",
    "vocab_path = \"../global_set/result.tsv\"\n",
    "emb_df = pd.read_csv(embedding_path, sep=\"\\t\", header=None)\n",
    "voc_df = pd.read_csv(vocab_path, sep=\"\\t\").set_index(\"ID\")\n",
    "vocab = voc_df[[\"TOKEN\"]]\n",
    "vocab = vocab.to_dict()[\"TOKEN\"]"
   ]
  },
  {
   "cell_type": "code",
   "execution_count": null,
   "metadata": {},
   "outputs": [],
   "source": [
    "emb = emb_df.values - emb_df.sum(0).values / 2040\n",
    "emd_dist = cosine_distances(emb)\n",
    "A = kneighbors_graph(emb_df, n_neighbors=5, mode=\"connectivity\", metric=\"cosine\")\n",
    "G = nx.from_numpy_matrix(A.toarray(), create_using=nx.DiGraph)\n",
    "nx.set_node_attributes(G, vocab, \"token\")"
   ]
  },
  {
   "cell_type": "code",
   "execution_count": null,
   "metadata": {},
   "outputs": [],
   "source": [
    "in_degree = G.in_degree()#nx.in_degree_centrality(G)\n",
    "in_degree_sorted = sorted(in_degree, key=lambda x: x[1], reverse=True)\n",
    "in_degree_dict = dict()\n",
    "for node_id, node_degree in in_degree_sorted:\n",
    "    in_degree_dict[vocab[node_id]] = node_degree\n",
    "in_degree_vals = np.array([v for k,v in in_degree_sorted])\n",
    "k = 20\n",
    "print(\"Top %s nodes (based on in-degree)\" %k)\n",
    "for i in range(k):\n",
    "    node_id, node_degree = in_degree_sorted[i]\n",
    "    print(i, \"%s: %s\" %(vocab[i], node_degree))"
   ]
  },
  {
   "cell_type": "code",
   "execution_count": null,
   "metadata": {},
   "outputs": [],
   "source": [
    "plt.figure(figsize=(17,5))\n",
    "plt.hist(in_degree_vals,100)\n",
    "\"Median of In-Degree distribution: %s\" % np.median(in_degree_vals)\n",
    "plt.title(\"In-degree distribution (Median: %s)\" %np.median(in_degree_vals))\n",
    "plt.xlabel(\"In-Degree\")\n",
    "plt.ylabel(\"Frequency\")\n",
    "sns.despine()\n",
    "plt.tight_layout()\n",
    "plt.show()"
   ]
  },
  {
   "cell_type": "code",
   "execution_count": null,
   "metadata": {},
   "outputs": [],
   "source": [
    "voc_cats = voc_df[\"CATEGORY\"].unique()\n",
    "in_deg_cats = dict()\n",
    "print(\"Median for in_degrees\")\n",
    "for cat in voc_cats:\n",
    "    if cat in [\"OTHER\", \"NON\"]:\n",
    "        continue\n",
    "    cat_tokens = voc_df[voc_df[\"CATEGORY\"] == cat][\"TOKEN\"].values\n",
    "    cat_degrees = [in_degree_dict[token] for token in cat_tokens]\n",
    "    print(\"\\t%s (n=%s): %s\" %(cat,  len(cat_tokens), np.median(cat_degrees)))\n"
   ]
  },
  {
   "cell_type": "code",
   "execution_count": null,
   "metadata": {},
   "outputs": [],
   "source": [
    "voc_cats = voc_df[\"CATEGORY\"].unique()\n",
    "in_deg_cats = dict()\n",
    "print(\"Number of nodes with 0 in-degrees\")\n",
    "for cat in voc_cats:\n",
    "    if cat in [\"OTHER\", \"NON\"]:\n",
    "        continue\n",
    "    cat_tokens = voc_df[voc_df[\"CATEGORY\"] == cat][\"TOKEN\"].values\n",
    "    cat_degrees = [in_degree_dict[token] == 0 for token in cat_tokens]\n",
    "    print(\"\\t%s (n=%s): %s (%2.f %% )\" %(cat,  len(cat_tokens), np.sum(cat_degrees),  100 * np.sum(cat_degrees)/len(cat_tokens)))"
   ]
  },
  {
   "cell_type": "code",
   "execution_count": null,
   "metadata": {},
   "outputs": [],
   "source": []
  }
 ],
 "metadata": {
  "interpreter": {
   "hash": "eebad428d04bd02616a0910f4c14d0e26b643c764bebaeff663e6d3a43f14d5a"
  },
  "kernelspec": {
   "display_name": "Python 3 (ipykernel)",
   "language": "python",
   "name": "python3"
  },
  "language_info": {
   "codemirror_mode": {
    "name": "ipython",
    "version": 3
   },
   "file_extension": ".py",
   "mimetype": "text/x-python",
   "name": "python",
   "nbconvert_exporter": "python",
   "pygments_lexer": "ipython3",
   "version": "3.9.13"
  }
 },
 "nbformat": 4,
 "nbformat_minor": 4
}
