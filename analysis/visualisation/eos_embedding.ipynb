{
 "cells": [
  {
   "cell_type": "code",
   "execution_count": null,
   "id": "106065da-e8e7-4897-9ec3-f15202da2b59",
   "metadata": {},
   "outputs": [],
   "source": [
    "import pandas as pd \n",
    "import pickle\n",
    "import glob \n",
    "from sklearn.manifold import MDS, Isomap, TSNE, LocallyLinearEmbedding, SpectralEmbedding\n",
    "from sklearn.decomposition import PCA\n",
    "from sklearn.svm import SVC\n",
    "from sklearn.preprocessing import StandardScaler\n",
    "from sklearn.metrics.pairwise import cosine_distances, cosine_similarity\n",
    "import matplotlib.pyplot as plt\n",
    "from scipy.cluster.vq import whiten\n",
    "import numpy as np\n",
    "import seaborn as sns\n",
    "import random\n",
    "import itertools\n",
    "sns.set_style(\"white\", {\"grid.linestyle\": \":\"})\n",
    "sns.set_context(\"notebook\", font_scale=1.2)\n",
    "from utils import risk_control\n",
    "from scipy.special import softmax\n",
    "import cmcrameri.cm as cmc\n",
    "import matplotlib.colors as clr\n",
    "from matplotlib.patches import Rectangle\n",
    "import matplotlib.patches as patches\n",
    "\n",
    "#import scienceplots\n",
    "#plt.style.use([\"science\", \"nature\"])\n",
    "import pacmap\n",
    "import trimap\n",
    "import os\n",
    "import metric_learn\n",
    "import umap"
   ]
  },
  {
   "attachments": {},
   "cell_type": "markdown",
   "id": "edbac05f",
   "metadata": {},
   "source": [
    "#### Description\n",
    "Visualisation of Person-summaries, as well as projecting Person-summaries onto the TCAV directions"
   ]
  },
  {
   "cell_type": "code",
   "execution_count": null,
   "id": "21ffb981-3c7a-404c-b414-a741ab0cf6af",
   "metadata": {},
   "outputs": [],
   "source": [
    "def get_pairwise_similarity(data, pairs):\n",
    "    out = []\n",
    "    for x, y in pairs:\n",
    "        if np.array_equal(data[x], data[y]):\n",
    "            out.append(1)\n",
    "        else:\n",
    "            out.append(-1)\n",
    "    return np.array(out)\n",
    "\n",
    "def contains_in_sequence(sample, min_, max_):\n",
    "    \"\"\"Checks if sequence contains tokens in range [min_, max_]\"\"\"\n",
    "    return np.where((sample >= min_) & (sample <=max_))[0].shape[0] > 0\n",
    "\n",
    "def plot_square(s, width):\n",
    "    sx = s[0]\n",
    "    sy = s[1]\n",
    "    plt.hlines(y = sy, xmin=sx, xmax=sx+width, linewidth=1.5, linestyle=\"dotted\", color=\"black\")\n",
    "    \n",
    "    plt.hlines(y = sy - width, xmin=sx, xmax=sx + width, linewidth=1.5, linestyle=\"dotted\", color=\"black\")\n",
    "    plt.vlines(x = sx, ymin=sy-width, ymax=sy, linewidth=1.5, linestyle=\"dotted\", color=\"black\")\n",
    "    plt.vlines(x = sx + width, ymin=sy-width, ymax=sy, linewidth=1.5, linestyle=\"dotted\", color=\"black\")"
   ]
  },
  {
   "cell_type": "code",
   "execution_count": null,
   "id": "cb8fb2bc-66bc-4a25-9c1d-4a1a88b071f7",
   "metadata": {},
   "outputs": [],
   "source": [
    "v = 4.02\n",
    "save_path = r\"../analysis/plots/%s/\" %v\n",
    "try:\n",
    "    os.makedir(save_path)\n",
    "except:\n",
    "    pass"
   ]
  },
  {
   "cell_type": "code",
   "execution_count": null,
   "id": "b97fcb8b-1e5b-45c9-95c9-48b6f08a5093",
   "metadata": {},
   "outputs": [],
   "source": [
    "with open('../analysis/tcav/sample_act/%s_decoder.identity/act.pkl' %v, \"rb\") as f:\n",
    "    act = pickle.load(f)\n",
    "    whiten_act = whiten(act)\n",
    "with open('../analysis/tcav/sample_meta/%s_decoder.identity/meta.pkl' %v, \"rb\") as f:\n",
    "    meta = pickle.load(f)  \n",
    "    meta[\"prb\"] = softmax(meta[\"predictions\"], -1)[:,1]\n",
    "    \n",
    "    has_health_record = list()\n",
    "    seqlen = list()\n",
    "    for s in meta[\"metadata\"]:\n",
    "        has_health_record.append(contains_in_sequence(s, 72, 819))\n",
    "        seqlen.append((s!=0).sum())\n",
    "    meta[\"has_health\"] = has_health_record\n",
    "    meta[\"seqlen\"] = seqlen\n",
    "print(\"Seqlen Quantiles\", np.quantile(seqlen, [0,0.33, 0.66, 1]))"
   ]
  },
  {
   "cell_type": "code",
   "execution_count": null,
   "id": "eadb373e-b228-4667-b97c-e2af02f35584",
   "metadata": {},
   "outputs": [],
   "source": [
    "ppl = pd.read_csv(\"../populations/survival/population/result.csv\").set_index(\"PERSON_ID\")\n",
    "ppl = ppl[ppl.index.isin(meta[\"sequence_ids\"])]\n",
    "\n",
    "ppl[\"EVENT_FINAL_DATE\"] = pd.to_datetime(ppl[\"EVENT_FINAL_DATE\"], format=\"%Y-%m-%d\")\n",
    "ppl[\"BIRTHDAY\"] = pd.to_datetime(ppl[\"BIRTHDAY\"], format=\"%Y-%m-%d\")\n",
    "ppl[\"UNLABELED\"] = ppl.apply(lambda x: (x[\"TARGET\"] == 0) & (x[\"EVENT_FINAL_DATE\"] < pd.to_datetime(\"2020-12-31\", format=\"%Y-%m-%d\")), axis = 1)"
   ]
  },
  {
   "cell_type": "code",
   "execution_count": null,
   "id": "849f44b9-94a8-49e9-a18f-8f89fc37a37f",
   "metadata": {},
   "outputs": [],
   "source": [
    "trgs = np.array(meta[\"targets\"]).reshape(-1)\n",
    "unlb = np.isin(meta[\"sequence_ids\"], ppl[ppl[\"UNLABELED\"]].index.values)"
   ]
  },
  {
   "cell_type": "code",
   "execution_count": null,
   "id": "56188e09-bd39-4fd2-9ec4-1ca8b7cab5e5",
   "metadata": {},
   "outputs": [],
   "source": [
    "### Uncertainty estimates\n",
    "probs =  meta[\"prb\"].reshape(-1)\n",
    "N = probs.shape[0]\n",
    "theta = 0.823\n",
    "risk  = 0.088\n",
    "\n",
    "kappa, certain = np.zeros(N), np.zeros(N)\n",
    "for i in range(kappa.shape[0]):\n",
    "    if probs[i] > 0.5:\n",
    "        kappa[i] = probs[i]\n",
    "    else:\n",
    "        kappa[i] = 1 - probs[i]\n",
    "    certain[i] = (kappa[i] < theta)"
   ]
  },
  {
   "cell_type": "code",
   "execution_count": null,
   "id": "c051e507-744c-4636-80e3-924f971c9416",
   "metadata": {},
   "outputs": [],
   "source": [
    "##PCA 2D\n",
    "prj_linear = PCA(n_components=2)\n",
    "xl = prj_linear.fit_transform(act)\n",
    "# ##UMAP 3D\n",
    "# umap_whiten_3d = umap.UMAP( n_components=3, random_state=0, n_epochs=500)\n",
    "# x_whiten_3d = umap_whiten_3d.fit_transform(whiten_act)\n",
    "# ##UMAP 2D\n",
    "# umap_whiten = umap.UMAP( n_components=2, random_state=0, n_epochs=500)\n",
    "# x_whiten = umap_whiten.fit_transform(whiten_act)\n",
    "# ## UMAP 2D (Original)\n",
    "# umap_orig = umap.UMAP( n_components=2, random_state=0, n_epochs=500)\n",
    "# x_umap = umap_orig.fit_transform(act)\n",
    "# ## UMAP 2D (Original)\n",
    "# ##PACMAP 3D (original)\n",
    "# pacmap_whiten_3d = pacmap.PaCMAP(n_components=3)\n",
    "# x_pacmap_3d = pacmap_whiten_3d.fit_transform(act)\n",
    "# ##PACMAP 2D (whiten)\n",
    "# #pacmap_whiten = pacmap.PaCMAP(n_components=2)\n",
    "# #x_pacmap = pacmap_whiten.fit_transform(whiten_act)\n",
    "# ## PACMAP 2D (original)\n",
    "# pacmap_whiten_n = pacmap.PaCMAP(n_components=2)\n",
    "# x_pacmap_n = pacmap_whiten_n.fit_transform(act)\n",
    "# ## TriMAP\n",
    "# x_trimap = trimap.TRIMAP(n_inliers=12, n_random= 8 ,n_outliers= 8, weight_temp=4, opt_method=\"momentum\").fit_transform(act)\n",
    "# x_trimap_3d = trimap.TRIMAP(n_dims=3,n_inliers=12, n_random= 8 ,n_outliers= 8, weight_temp=4, opt_method=\"momentum\").fit_transform(act)\n"
   ]
  },
  {
   "cell_type": "code",
   "execution_count": null,
   "id": "baaca295-ba75-43a3-9aaf-74ac3f157a0d",
   "metadata": {},
   "outputs": [],
   "source": [
    "_cmap = cmc.bamako\n",
    "cmap = clr.LinearSegmentedColormap.from_list(\"bamako\", [_cmap(225), _cmap(125), _cmap(50)], N=100)\n",
    "#cmap\n",
    "_cmap = cmc.lapaz\n",
    "cmap_u = clr.LinearSegmentedColormap.from_list(\"lapaz\", [_cmap(225), _cmap(125), _cmap(50)], N=100)\n",
    "#cmap_u"
   ]
  },
  {
   "cell_type": "code",
   "execution_count": null,
   "id": "a58ad64c-13d3-459f-89c0-3bd062a8a2c5",
   "metadata": {},
   "outputs": [],
   "source": [
    "fig, ax = plt.subplots(1, 2, figsize=(12,6))\n",
    "ax[0].scatter(xl[:,0], xl[:,1], c=probs,s=5, cmap=cmap)#sns.color_palette(\"dark:salmon_r\", as_cmap=True))\n",
    "ax[0].set_title(\"PCA (Linear) Projection\")\n",
    "\n",
    "_a = xl[(trgs==0) & (unlb==0)]\n",
    "_b = xl[trgs==1]\n",
    "_c = xl[(trgs==0) & (unlb==1)]\n",
    "ax[1].scatter(_a[:,0], _a[:,1], c=\"gray\", alpha=0.2, s=2)\n",
    "ax[1].scatter(_b[:,0], _b[:,1], c=\"black\", s=2, cmap=cmap)\n",
    "ax[1].scatter(_c[:,0], _c[:,1], c=\"orange\", s=2, cmap=cmap)\n",
    "\n",
    "ax[1].set_title(\"PCA (Linear) Projection (Deceased colored)\")\n",
    "\n",
    "plt.tight_layout()\n",
    "sns.despine()\n",
    "plt.savefig(save_path + \"pca_viz.svg\", format=\"svg\")"
   ]
  },
  {
   "cell_type": "code",
   "execution_count": null,
   "id": "bb2ec5a4-ce94-4da0-9e74-1d5ceced3cda",
   "metadata": {},
   "outputs": [],
   "source": [
    "### DensMap\n",
    "param = dict(n_components=2,\n",
    "             min_dist=0.3, \n",
    "             n_neighbors = 50,\n",
    "             densmap=True,\n",
    "             dens_lambda=0.8, \n",
    "             metric=\"euclidean\", \n",
    "             random_state=0, \n",
    "             init=\"spectral\")\n",
    "prj = umap.UMAP(**param)\n",
    "xp = prj.fit_transform(act)"
   ]
  },
  {
   "cell_type": "code",
   "execution_count": null,
   "id": "91216d7c-ffbc-4c5a-88ce-50d0031ca2b8",
   "metadata": {},
   "outputs": [],
   "source": [
    "fig = plt.figure(figsize=(10,10))\n",
    "plt.scatter(xp[:,0], xp[:,1], linewidth = 0.1, s=4, \n",
    "              c=probs, cmap=cmap, facecolors=\"white\")\n",
    "#plt.tight_layout()\n",
    "plt.autoscale()\n",
    "plt.savefig(save_path + \"person_space_densmap_.svg\", format=\"svg\")\n",
    "plt.show()"
   ]
  },
  {
   "cell_type": "code",
   "execution_count": null,
   "id": "c653ffcf-66e9-4c31-83df-eb7feae65759",
   "metadata": {},
   "outputs": [],
   "source": [
    "## PACMAP\n",
    "param = dict(n_components=2, MN_ratio=0.1, FP_ratio=2,  n_neighbors=50, distance=\"angular\", random_state=0)\n",
    "prj = pacmap.PaCMAP(**param)\n",
    "xp = prj.fit_transform(act)"
   ]
  },
  {
   "cell_type": "code",
   "execution_count": null,
   "id": "f4b77a01-1933-40df-aa57-a787b8bce69d",
   "metadata": {},
   "outputs": [],
   "source": [
    "fig = plt.figure(figsize=(10,10))\n",
    "plt.scatter(xp[:,0], xp[:,1], linewidth = 0.1, s=4, \n",
    "              c=probs, cmap=cmap, facecolors=\"white\")\n",
    "#plt.tight_layout()\n",
    "plt.autoscale()\n",
    "plt.savefig(save_path + \"person_space_pacmap_.svg\", format=\"svg\")\n",
    "plt.show()"
   ]
  },
  {
   "cell_type": "code",
   "execution_count": null,
   "id": "d63c9525-8c9b-4f37-8606-05591ff2489d",
   "metadata": {},
   "outputs": [],
   "source": [
    "###UMAP\n",
    "param = dict(n_components=2,\n",
    "             random_state=0)\n",
    "prj = umap.UMAP(**param)\n",
    "xp = prj.fit_transform(act)"
   ]
  },
  {
   "cell_type": "code",
   "execution_count": null,
   "id": "e51f8fd2-7788-46e8-99d3-4492f3900e54",
   "metadata": {},
   "outputs": [],
   "source": [
    "fig = plt.figure(figsize=(10,10))\n",
    "plt.scatter(xp[:,0], xp[:,1], linewidth = 0.1, s=4, \n",
    "              c=probs, cmap=cmap, facecolors=\"white\")\n",
    "#plt.tight_layout()\n",
    "plt.autoscale()\n",
    "plt.savefig(save_path + \"person_space_umap_.svg\", format=\"svg\")\n",
    "plt.show()"
   ]
  },
  {
   "cell_type": "code",
   "execution_count": null,
   "id": "e174b2bf-0387-4225-9a52-4a0a2f51ba98",
   "metadata": {},
   "outputs": [],
   "source": [
    "param = dict(n_components=2,\n",
    "             min_dist=0.3, \n",
    "             n_neighbors = 50,\n",
    "             densmap=True,\n",
    "             dens_lambda=0.8, \n",
    "             metric=\"euclidean\", \n",
    "             random_state=0, \n",
    "             init=\"spectral\")\n",
    "prj = umap.UMAP(**param)\n",
    "xp = prj.fit_transform(act)\n",
    "#xps.append(xp)\n",
    "#params.append(param)\n",
    "#best\n",
    "# dict(n_components=2,\n",
    "#              min_dist=0.3, \n",
    "#              n_neighbors = 50,\n",
    "#              densmap=True,\n",
    "#              dens_lambda=0.6, #0.7 #0.8\n",
    "#              metric=\"euclidean\", \n",
    "#              random_state=0, \n",
    "#              init=\"spectral\")"
   ]
  },
  {
   "cell_type": "code",
   "execution_count": null,
   "id": "d8080eaa-09f5-433f-b88a-27230b9d66c1",
   "metadata": {},
   "outputs": [],
   "source": [
    "preds = probs"
   ]
  },
  {
   "cell_type": "code",
   "execution_count": null,
   "id": "2f4fd5e6-f591-40b4-b2e3-55f0b11367bd",
   "metadata": {},
   "outputs": [],
   "source": [
    "fig, ax = plt.subplots(3,3 , figsize=(20,20))\n",
    "style = dict( s=3, alpha=0.95, edgecolor=\"white\", linewidths=0.1)\n",
    "###################\n",
    "### PROBABILITIES\n",
    "ax[0,0].scatter(xp[:,0], xp[:,1], c=preds, cmap=cmap, **style)\n",
    "ax[0,0].set_title(\" Randomly Sampled Embeddings (estimated probabilities)\")\n",
    "\n",
    "####################\n",
    "### TARGETS\n",
    "ax[0,1].set_title(\" Randomly Sampled Embeddings (true targets) \")\n",
    "_a = xp[(trgs==0) & (unlb==0)]\n",
    "_b = xp[trgs==1]\n",
    "_c = xp[(trgs==0) & (unlb==1)]\n",
    "\n",
    "ax[0,1].scatter(_a[:,0], _a[:,1], c=\"gray\", alpha=0.2, s=1, cmap=cmap)\n",
    "ax[0,1].scatter(_b[:,0], _b[:,1], c=\"black\", s=1)\n",
    "ax[0,1].scatter(_c[:,0], _c[:,1], c=\"orange\", s=1)\n",
    "###################\n",
    "### QUANTIZED Preds\n",
    "ax[1,0].set_title(\"Randomly Sampled Embeddings (binned probabilities)\")\n",
    "\n",
    "qt  = np.digitize(meta[\"prb\"], [0.1,0.5, 0.75, 0.9]).astype(float)\n",
    "color = list()\n",
    "for q in qt:\n",
    "    if q == 0:\n",
    "        color.append(\"#4f4f4f\")\n",
    "    elif q == 1:\n",
    "        color.append(\"#009E73\")\n",
    "    elif q == 2:\n",
    "        color.append(\"#cc79a7\")\n",
    "    elif q == 3:\n",
    "        color.append(\"#56b4e9\")\n",
    "    else:\n",
    "        color.append(\"#e69f00\")\n",
    "ax[1,0].scatter(xp[:,0], xp[:,1], c=color, **style)\n",
    "p = [patches.Patch(color= c,label = l) for c, l in zip([\"#4f4f4f\", \"#009E73\", \"#cc79a7\", \"#56b4e9\", \"#e69f00\"],\n",
    "                                          [\"<10%\",\"10%-50%\", \"50%-75%\",  \"75%-90%\", \">90%\"])]\n",
    "ax[1,0].legend(handles=p)\n",
    "#####################\n",
    "### QUANTIZED PREDS with AREA\n",
    "ax[2,2].set_title(\"Randomly Sampled Embeddings (binned probabilities with decision regions)\")\n",
    "probs_model = SVC(kernel=\"rbf\")\n",
    "probs_model.fit(xp, qt)\n",
    "xx, yy = np.meshgrid(np.linspace(xp[:,0].min(), xp[:,0].max(), 100),\n",
    "                     np.linspace(xp[:,1].min(), xp[:,1].max(), 100))\n",
    "grid = np.vstack([xx.ravel(), yy.ravel()]).T\n",
    "zz = np.reshape(probs_model.predict(grid), xx.shape)\n",
    "ax[2,2].pcolormesh(xx, yy, zz, cmap=\"Spectral\", alpha=0.2, shading=\"nearest\")\n",
    "ax[2,2].scatter(xp[:,0], xp[:,1], c=preds, cmap=cmap, **style)\n",
    "#####################\n",
    "### AGE\n",
    "ax[1,1].set_title(\"Randomly Sampled Embeddings (colored by age)\")\n",
    "ax[1,1].scatter(xp[:,0], xp[:,1], c=-(meta[\"metadata\"][:,4:5] - 26)/35, cmap=cmap, **style)\n",
    "#####################\n",
    "### SEX\n",
    "ax[2,0].set_title(\"Randomly Sampled Embeddings (sex)\")\n",
    "color = list()\n",
    "for i in np.array(meta[\"metadata\"][:,2]):\n",
    "    if i == 10:\n",
    "        color.append(\"#e69f00\") #\"male\"\n",
    "    else:\n",
    "        color.append(\"#009E73\")\n",
    "p = [patches.Patch(color= c,label = l) for c, l in zip([\"#e69f00\", \"#009E73\"],\n",
    "                                          [\"male\",\"female\"])]\n",
    "ax[2,0].legend(handles=p)\n",
    "\n",
    "ax[2,0].scatter(xp[:,0], xp[:,1],  c= color, **style)\n",
    "#####################\n",
    "### HAS HEALTH\n",
    "ax[2,1].set_title(\"Randomly Sampled Embeddings (presence of health events)\")\n",
    "\n",
    "mask = np.array(meta[\"has_health\"])\n",
    "ax[2,1].scatter(xp[mask,0], xp[mask,1], c=\"#009E73\",  s=2,  label = \"Have health records\")\n",
    "mask = ~mask\n",
    "ax[2,1].scatter(xp[mask,0], xp[mask,1], c=\"red\",  s=2, label = \"No health records\")\n",
    "ax[2,1].legend()\n",
    "####################\n",
    "### CERTAINTY\n",
    "ax[0,2].set_title(\"Randomly Sampled Embeddings (probabilities and certainties)\")\n",
    "color = list()\n",
    "mask = ~np.array(certain).astype(bool)\n",
    "ax[0,2].scatter(xp[mask,0], xp[mask,1], c=preds[mask], cmap=cmap, **style, label=\"Certain Predictions\",)\n",
    "\n",
    "ax[0,2].scatter(xp[~mask,0], xp[~mask,1],  marker=\"D\", c = \"#4e4e4e\", s=1, \n",
    "                 alpha=0.5, edgecolor=\"white\", linewidths=0.1, label = \"Uncertain Predictions, p in [%.2f, %.2f]\" %(1 - theta, theta))\n",
    "#####################\n",
    "### NUMBER OF RECORDS\n",
    "ax[1,2].set_title(\"Randomly Sampled Embeddings (length of the sequence)\")\n",
    "qt = np.digitize(meta[\"seqlen\"], [1048., 1348.])\n",
    "color = list()\n",
    "for q in qt:\n",
    "    if q == 0:\n",
    "        color.append(\"#4f4f4f\")\n",
    "    elif q == 1:\n",
    "        color.append(\"#009E73\")\n",
    "    elif q == 2:\n",
    "        color.append(\"#cc79a7\")\n",
    "ax[1,2].scatter(xp[:,0], xp[:,1], c=color, **style)\n",
    "p = [patches.Patch(color= c,label = l) for c, l in zip([\"#4f4f4f\", \"#009E73\", \"#cc79a7\"],\n",
    "                                          [\"<1048\",\"[1048, 1348]\", \">1348\"])]\n",
    "ax[1,2].legend(handles=p)\n",
    "\n",
    "sns.despine()\n",
    "plt.tight_layout()\n",
    "plt.savefig(save_path + \"people_embedding_3x3.svg\", format=\"svg\")\n",
    "plt.show()"
   ]
  },
  {
   "cell_type": "code",
   "execution_count": null,
   "id": "71ec9ccd-038f-4af3-a1a0-bc86fd58f2a6",
   "metadata": {},
   "outputs": [],
   "source": [
    "rA = (7,20)\n",
    "wA = 5\n",
    "rB = (0,-3)\n",
    "wB = 3\n",
    "rC = (-5,10)\n",
    "wC = 3"
   ]
  },
  {
   "attachments": {},
   "cell_type": "markdown",
   "id": "151216e5-f6a6-482e-87b9-3fae5da387dd",
   "metadata": {},
   "source": [
    "## Region"
   ]
  },
  {
   "cell_type": "code",
   "execution_count": null,
   "id": "35b2badd-a134-4eca-a7c1-6a417d7ae3e1",
   "metadata": {},
   "outputs": [],
   "source": [
    "### Sort points by x\n",
    "sort_idx = np.argsort(np.array(meta[\"metadata\"][:,4:5]).reshape(-1))\n",
    "xs = xp[sort_idx]\n",
    "_meta_age = np.array(meta[\"metadata\"][:,4:5]).reshape(-1)[sort_idx]\n",
    "_meta_sex = np.array(meta[\"metadata\"][:,2]).reshape(-1)[sort_idx]"
   ]
  },
  {
   "cell_type": "code",
   "execution_count": null,
   "id": "b671ffe9-4e70-4255-9ffc-5464abdd23b8",
   "metadata": {},
   "outputs": [],
   "source": [
    "r = rC\n",
    "w = wC\n",
    "title = \"C\"\n",
    "region_mask = (xs[:,0] > r[0]) & (xs[:,0] < (r[0] + w)) & (xs[:,1]> (r[1] - w)) & (xs[:,1]<r[1])"
   ]
  },
  {
   "cell_type": "code",
   "execution_count": null,
   "id": "2d416d4e-402b-41dd-84cb-555a3e87826c",
   "metadata": {},
   "outputs": [],
   "source": [
    "fig = plt.figure(figsize=(5,5))\n",
    "\n",
    "plt.scatter(xs[region_mask,0]  , xs[region_mask,1], c=-(_meta_age[region_mask] - 26)/35,s=100, edgecolor=\"white\", linewidths=0.5, cmap=cmap, alpha=0.8)\n",
    "plt.title(\"Region %s (age)\" %title)\n",
    "plt.axis(\"off\")\n",
    "plt.tight_layout()\n",
    "plt.savefig(save_path + \"pe_age_A%s.svg\" %title, format=\"svg\")\n",
    "plt.show()"
   ]
  },
  {
   "cell_type": "code",
   "execution_count": null,
   "id": "c2cbce6a-b6a2-4114-858b-1e64337576c8",
   "metadata": {},
   "outputs": [],
   "source": [
    "fig = plt.figure(figsize=(5,5))\n",
    "__x = xs[region_mask]\n",
    "\n",
    "_t = trgs[sort_idx][region_mask]\n",
    "_u =  unlb[sort_idx][region_mask]\n",
    "a = __x[(_t==0) & (_u==0)]\n",
    "b = __x[_t==1]\n",
    "b\n",
    "z = __x[(_t==0) & (_u==1)]\n",
    "plt.title(\"Region %s (colored by targets)\" %title)\n",
    "\n",
    "plt.scatter(a[:,0], a[:,1], c=\"gray\",  s=100, alpha=0.5, label = \"True Alive\", edgecolor=\"white\", linewidths=1.)\n",
    "plt.scatter(b[:,0], b[:,1], c=\"black\", s=90, alpha=0.85, label=\"True Deceased\", edgecolor=\"red\", linewidth=5, marker=\"D\")\n",
    "plt.scatter(z[:,0], z[:,1], c=\"black\", s=90, alpha= 0.85,label = \"Unlabeled\", edgecolor=\"violet\", linewidth=5, marker=\"D\")\n",
    "plt.axis(\"off\")\n",
    "plt.tight_layout()\n",
    "plt.savefig(save_path + \"pe_targ_%s.svg\" %title, format=\"svg\")\n",
    "plt.show()"
   ]
  },
  {
   "cell_type": "code",
   "execution_count": null,
   "id": "e81811ee-49e9-429d-831a-1d791ef7acd1",
   "metadata": {},
   "outputs": [],
   "source": [
    "fig = plt.figure(figsize=(5,5))\n",
    "_meta_sex = np.array(meta[\"metadata\"][:,2]).reshape(-1)[sort_idx]\n",
    "\n",
    "color = list()\n",
    "for i in _meta_sex:\n",
    "    if i == 10:\n",
    "        color.append(\"#e69f00\")\n",
    "    else:\n",
    "        color.append(\"#009E73\")\n",
    "plt.scatter(xs[region_mask,0], xs[region_mask,1],  c= np.array(color)[region_mask], s=100, alpha=0.85, edgecolor=\"white\", linewidths=1)\n",
    "# _mask =  (_meta_sex != 10) & (_x_sorted[:,0] > r[0]) & (_x_sorted[:,0] < (r[0] + w)) & (_x_sorted[:,1]> (r[1] - w)) & (_x_sorted[:,1]<r[1])\n",
    "# plt.scatter(_x_sorted[_mask,0], _x_sorted[_mask,1],  c = [\"#009E73\" for _ in range(sum(_mask))], s=75,  alpha=0.8,label=\"female\", edgecolor=\"white\", linewidths=0.5)\n",
    "plt.axis(\"off\")\n",
    "plt.title(\"Region %s (colored by sex)\" %title)\n",
    "plt.tight_layout()\n",
    "plt.savefig(save_path + \"pe_sex_%s.svg\" %title, format=\"svg\")\n",
    "plt.show()"
   ]
  },
  {
   "cell_type": "code",
   "execution_count": null,
   "id": "591e05fe-6518-45da-ad04-44018d756310",
   "metadata": {},
   "outputs": [],
   "source": [
    "t = np.array(meta[\"targets\"])\n",
    "c = np.array(meta[\"prb\"])[t == 1]\n",
    "tp = sum(c >= theta)\n",
    "print(\"Fraction of TP:\", tp)"
   ]
  },
  {
   "cell_type": "code",
   "execution_count": null,
   "id": "be69633f-778e-437a-8c48-c22b9384cd5e",
   "metadata": {},
   "outputs": [],
   "source": [
    "\"x size: %.2f\" %(np.abs(np.max(xp[:,0])) +  np.abs(np.min(xp[:,0]))), \"y size: %.2f\"  %(np.abs(np.max(xp[:,1])) +  np.abs(np.min(xp[:,1])))"
   ]
  },
  {
   "cell_type": "code",
   "execution_count": null,
   "id": "37c9cd8b-0e8e-47f5-9502-1671537e6678",
   "metadata": {},
   "outputs": [],
   "source": [
    "fig = plt.figure(figsize=(10,10))\n",
    "mask = np.array(certain).astype(bool)\n",
    "_trgs = np.array(trgs).astype(bool)\n",
    "coverage = sum(mask)/mask.shape[0]\n",
    "plt.scatter(xp[mask,0], xp[mask,1],   linewidth = 0.5, s=0.5, #marker=\"D\", \n",
    "              edgecolors = cmap(preds[mask]), facecolors=\"white\",\n",
    "              label = \"Uncertain Predictions, p in [%.2f, %.2f]\" %(1 - theta, theta))\n",
    "\n",
    "plot_square(rA,wA)\n",
    "#plot_square(rB,wB)\n",
    "plot_square(rC,wC)\n",
    "mask = ~mask\n",
    "plt.scatter(xp[mask,0], xp[mask,1], c=cmap(preds[mask]),  s=10,  label = \"Certain Predictions\", edgecolor=\"white\", linewidth=0.2)\n",
    "plt.scatter(xp[_trgs,0], xp[_trgs,1], c= cmap(preds[_trgs]), edgecolor=\"red\", s=7, linewidth=2, marker=\"D\", label = \"True Deceased\")\n",
    "\n",
    "plt.title(\"Randomly Sampled Embeddings (Selective Classification: theta=%.2f, risk=%.2f, coverage=%.2f)\" %(theta, risk, coverage))\n",
    "#plt.legend()\n",
    "sns.despine()\n",
    "plt.axis(\"scaled\")\n",
    "plt.tight_layout()\n",
    "plt.savefig(save_path + \"people_embedding.svg\", format=\"svg\")\n",
    "plt.show()"
   ]
  },
  {
   "cell_type": "code",
   "execution_count": null,
   "id": "354b0251-1362-4e4e-b368-a02a5f8f833c",
   "metadata": {},
   "outputs": [],
   "source": [
    "param = dict(n_components=2, MN_ratio=0.1, FP_ratio=2,  n_neighbors=50, distance=\"angular\", random_state=0)\n",
    "prj = pacmap.PaCMAP(**param) #mn=0.1, fp=2, nn=10 dist = ang\n",
    "xp_pac = prj.fit_transform(act)\n",
    "\n",
    "prj = trimap.TRIMAP(n_dims=2)\n",
    "xp_tri = prj.fit_transform(act)\n",
    "\n",
    "prj = trimap.UMAP(n_components=2, distance=\"angular\")\n",
    "\n",
    "xp_ump = prj.fit_transform(act)"
   ]
  },
  {
   "cell_type": "code",
   "execution_count": null,
   "id": "c4fa286e-946c-4ee4-84ff-3b28897194f9",
   "metadata": {},
   "outputs": [],
   "source": [
    "\n",
    "fig = plt.figure(figsize=(10,10))\n",
    "mask = np.array(certain).astype(bool)\n",
    "_trgs = np.array(trgs).astype(bool)\n",
    "coverage = sum(mask)/mask.shape[0]\n",
    "plt.scatter(xp[mask,0], xp[mask,1],   linewidth = 0.5, s=0.5, #marker=\"D\", \n",
    "              edgecolors = cmap(preds[mask]), facecolors=\"white\",\n",
    "              label = \"Uncertain Predictions, p in [%.2f, %.2f]\" %(1 - theta, theta))\n",
    "\n",
    "#plot_square(rA,wA)\n",
    "#plot_square(rB,wB)\n",
    "#plot_square(rC,wC)\n",
    "mask = ~mask\n",
    "plt.scatter(xp[mask,0], xp[mask,1], c=cmap(preds[mask]),  s=10,  label = \"Certain Predictions\", edgecolor=\"white\", linewidth=0.2)\n",
    "plt.scatter(xp[_trgs,0], xp[_trgs,1], c= cmap(preds[_trgs]), edgecolor=\"violet\", s=8, linewidth=2, marker=\"D\", label = \"True Deceased\")\n",
    "\n",
    "plt.title(\"Randomly Sampled Embeddings (Selective Classification: theta=%.2f, risk=%.2f, coverage=%.2f)\" %(theta, risk, coverage))\n",
    "#plt.legend()\n",
    "sns.despine()\n",
    "plt.axis(\"scaled\")\n",
    "plt.tight_layout()\n",
    "plt.savefig(save_path + \"people_embedding_pacmap.svg\", format=\"svg\")\n",
    "plt.show()"
   ]
  },
  {
   "cell_type": "code",
   "execution_count": null,
   "id": "dbbe691b-6d97-4c63-a001-8e04799b8be2",
   "metadata": {},
   "outputs": [],
   "source": [
    "prj = trimap.TRIMAP(n_dims=2)\n",
    "xp = prj.fit_transform(act)"
   ]
  },
  {
   "cell_type": "code",
   "execution_count": null,
   "id": "0c179798-755d-4301-9f8e-26b62d7a1b73",
   "metadata": {},
   "outputs": [],
   "source": [
    "\n",
    "fig = plt.figure(figsize=(10,10))\n",
    "mask = np.array(certain).astype(bool)\n",
    "_trgs = np.array(trgs).astype(bool)\n",
    "coverage = sum(mask)/mask.shape[0]\n",
    "plt.scatter(xp[mask,0], xp[mask,1],   linewidth = 0.5, s=0.5, #marker=\"D\", \n",
    "              edgecolors = cmap(preds[mask]), facecolors=\"white\",\n",
    "              label = \"Uncertain Predictions, p in [%.2f, %.2f]\" %(1 - theta, theta))\n",
    "\n",
    "#plot_square(rA,wA)\n",
    "#plot_square(rB,wB)\n",
    "#plot_square(rC,wC)\n",
    "mask = ~mask\n",
    "plt.scatter(xp[mask,0], xp[mask,1], c=cmap(preds[mask]),  s=10,  label = \"Certain Predictions\", edgecolor=\"white\", linewidth=0.2)\n",
    "plt.scatter(xp[_trgs,0], xp[_trgs,1], c= cmap(preds[_trgs]), edgecolor=\"violet\", s=8, linewidth=2, marker=\"D\", label = \"True Deceased\")\n",
    "\n",
    "plt.title(\"Randomly Sampled Embeddings (Selective Classification: theta=%.2f, risk=%.2f, coverage=%.2f)\" %(theta, risk, coverage))\n",
    "#plt.legend()\n",
    "sns.despine()\n",
    "plt.tight_layout()\n",
    "plt.savefig(save_path + \"people_embedding_trimap.svg\", format=\"svg\")\n",
    "plt.show()"
   ]
  },
  {
   "cell_type": "code",
   "execution_count": null,
   "id": "89557d10-6edb-4033-aba4-fcc780294a4e",
   "metadata": {},
   "outputs": [],
   "source": [
    "prj = umap.UMAP(n_components=2, random_state=0)\n",
    "xp = prj.fit_transform(act)"
   ]
  },
  {
   "cell_type": "code",
   "execution_count": null,
   "id": "57c902f9-e438-41a5-a40c-64da7ac5c245",
   "metadata": {},
   "outputs": [],
   "source": [
    "fig = plt.figure(figsize=(10,10))\n",
    "mask = np.array(certain).astype(bool)\n",
    "_trgs = np.array(trgs).astype(bool)\n",
    "coverage = sum(mask)/mask.shape[0]\n",
    "plt.scatter(xp[mask,0], xp[mask,1],   linewidth = 0.5, s=0.5, #marker=\"D\", \n",
    "              edgecolors = cmap(preds[mask]), facecolors=\"white\",\n",
    "              label = \"Uncertain Predictions, p in [%.2f, %.2f]\" %(1 - theta, theta))\n",
    "\n",
    "#plot_square(rA,wA)\n",
    "#plot_square(rB,wB)\n",
    "#plot_square(rC,wC)\n",
    "mask = ~mask\n",
    "plt.scatter(xp[mask,0], xp[mask,1], c=cmap(preds[mask]),  s=10,  label = \"Certain Predictions\", edgecolor=\"white\", linewidth=0.2)\n",
    "plt.scatter(xp[_trgs,0], xp[_trgs,1], c= cmap(preds[_trgs]), edgecolor=\"violet\", s=8, linewidth=2, marker=\"D\", label = \"True Deceased\")\n",
    "\n",
    "plt.title(\"Randomly Sampled Embeddings (Selective Classification: theta=%.2f, risk=%.2f, coverage=%.2f)\" %(theta, risk, coverage))\n",
    "#plt.legend()\n",
    "sns.despine()\n",
    "#plt.axis(\"scaled\")\n",
    "plt.tight_layout()\n",
    "plt.savefig(save_path + \"people_embedding_umap.svg\", format=\"svg\")\n",
    "plt.show()"
   ]
  },
  {
   "cell_type": "code",
   "execution_count": null,
   "id": "481ef55e-7f96-441b-9e20-3d859b150da6",
   "metadata": {},
   "outputs": [],
   "source": [
    "from sklearn.manifold import TSNE"
   ]
  },
  {
   "cell_type": "code",
   "execution_count": null,
   "id": "66b06e0b-e7a5-4452-980f-6dc996bdb271",
   "metadata": {},
   "outputs": [],
   "source": [
    "prj = TSNE(n_components=2, random_state=0)\n",
    "xp = prj.fit_transform(act)"
   ]
  },
  {
   "cell_type": "code",
   "execution_count": null,
   "id": "9f335b31-5865-438c-aec3-c4a312bba9fc",
   "metadata": {},
   "outputs": [],
   "source": [
    "fig = plt.figure(figsize=(10,10))\n",
    "mask = np.array(certain).astype(bool)\n",
    "_trgs = np.array(trgs).astype(bool)\n",
    "coverage = sum(mask)/mask.shape[0]\n",
    "plt.scatter(xp[mask,0], xp[mask,1],   linewidth = 0.5, s=0.5, #marker=\"D\", \n",
    "              edgecolors = cmap(preds[mask]), facecolors=\"white\",\n",
    "              label = \"Uncertain Predictions, p in [%.2f, %.2f]\" %(1 - theta, theta))\n",
    "\n",
    "#plot_square(rA,wA)\n",
    "#plot_square(rB,wB)\n",
    "#plot_square(rC,wC)\n",
    "mask = ~mask\n",
    "plt.scatter(xp[mask,0], xp[mask,1], c=cmap(preds[mask]),  s=10,  label = \"Certain Predictions\", edgecolor=\"white\", linewidth=0.2)\n",
    "plt.scatter(xp[_trgs,0], xp[_trgs,1], c= cmap(preds[_trgs]), edgecolor=\"violet\", s=8, linewidth=2, marker=\"D\", label = \"True Deceased\")\n",
    "\n",
    "plt.title(\"Randomly Sampled Embeddings (Selective Classification: theta=%.2f, risk=%.2f, coverage=%.2f)\" %(theta, risk, coverage))\n",
    "#plt.legend()\n",
    "sns.despine()\n",
    "#plt.axis(\"scaled\")\n",
    "plt.tight_layout()\n",
    "plt.savefig(save_path + \"people_embedding_tsne.svg\", format=\"svg\")\n",
    "plt.show()"
   ]
  },
  {
   "attachments": {},
   "cell_type": "markdown",
   "id": "726ae152-82c6-4179-9eed-7a3ce770ac3a",
   "metadata": {},
   "source": [
    "# 2. Concept Directions"
   ]
  },
  {
   "cell_type": "code",
   "execution_count": null,
   "id": "af13e22f-3891-4c0c-9d48-383a11d28219",
   "metadata": {},
   "outputs": [],
   "source": [
    "def load_concepts(c):\n",
    "    ATTR_PATH = r\"..\\analysis\\tcav\\cavs\\%s_decoder.identity\" %v\n",
    "    file_path = ATTR_PATH + r\"\\%s.pkl\" %c\n",
    "    with open(file_path, \"rb\") as f:\n",
    "        out =  pickle.load(f)\n",
    "    return out"
   ]
  },
  {
   "cell_type": "code",
   "execution_count": null,
   "id": "155b8cd4-e50f-4b49-bf0e-e6ef71ab4e90",
   "metadata": {},
   "outputs": [],
   "source": [
    "x_mental = np.mean(load_concepts(\"mental\"), axis=0)\n",
    "x_agric  = np.mean(load_concepts(\"agriculture\"), axis=0)\n",
    "x_craft  = np.mean(load_concepts(\"crafts\"), axis=0)\n",
    "x_income = np.mean(load_concepts(\"income\"), axis=0)\n",
    "x_manager= np.mean(load_concepts(\"managers\"), axis=0)\n",
    "x_mf = np.mean(load_concepts(\"sex_mf\"), axis=0)\n",
    "x_fm = np.mean(load_concepts(\"sex_fm\"), axis=0)\n",
    "\n",
    "x_prof =  np.mean(load_concepts(\"professionals\"), axis=0)\n",
    "x_infect = np.mean(load_concepts(\"infection\"), axis=0)\n",
    "x_neural = np.mean(load_concepts(\"neural\"), axis=0)"
   ]
  },
  {
   "cell_type": "code",
   "execution_count": null,
   "id": "1554dc60-4297-40a9-850b-ceebac1adfc9",
   "metadata": {},
   "outputs": [],
   "source": [
    "t = np.array(meta[\"targets\"])\n",
    "c = meta[\"prb\"]\n",
    "fig, ax = plt.subplots(2,2 , figsize=(20,20))\n",
    "ax[0,0].scatter(np.dot(act, x_mental), np.dot(act, x_agric), c=c,s=5, cmap=cmap)\n",
    "ax[0,0].set_xlabel(\"Mental Direction\")\n",
    "ax[0,0].set_ylabel(\"Agriculture Direction\")\n",
    "\n",
    "ax[0,0].set_title(\"Projection on  Mental-Agriculture Concept\")\n",
    "\n",
    "ax[0,1].scatter(np.dot(act, x_craft), np.dot(act, x_income), c=c,s=5, cmap=cmap)\n",
    "ax[0,1].set_title(\"Projection on  Crafts-Income Concept\")\n",
    "ax[0,1].set_xlabel(\"Crafts\")\n",
    "ax[0,1].set_ylabel(\"Income\")\n",
    "\n",
    "c_ = (meta[\"metadata\"][:,2] == 10).astype(float)\n",
    "\n",
    "ax[1,0].scatter(np.dot(act, x_mf), np.dot(act, x_fm), c=c_, s=5, cmap=cmap)\n",
    "ax[1,0].set_title(\"Projection on  Female-Male Concept\")\n",
    "ax[1,0].set_xlabel(\"Female\")\n",
    "ax[1,0].set_ylabel(\"Male\")\n",
    "\n",
    "ax[1,1].scatter(np.dot(act, x_infect), np.dot(act, x_neural), c=c, s=5, cmap=cmap)\n",
    "ax[1,1].set_title(\"Projection on  Infection-Neural Concept\")\n",
    "ax[1,1].set_xlabel(\"Infection\")\n",
    "ax[1,1].set_ylabel(\"Neural\")\n",
    "\n",
    "plt.tight_layout()\n",
    "plt.savefig(save_path + \"tcav_projections.svg\", format=\"svg\")\n",
    "plt.show()\n"
   ]
  },
  {
   "cell_type": "code",
   "execution_count": null,
   "id": "4f85bde4-c498-44c0-89b0-eb796195446a",
   "metadata": {},
   "outputs": [],
   "source": [
    "def norm(x):\n",
    "    x = np.array(x)\n",
    "    return (x - x.mean())/x.std()\n",
    "from scipy.spatial.distance import cosine"
   ]
  },
  {
   "cell_type": "code",
   "execution_count": null,
   "id": "8979ee7d-ea16-466c-acba-c43763571cab",
   "metadata": {},
   "outputs": [],
   "source": [
    "def get_score(x,y):\n",
    "    res = list()\n",
    "    for i in range(x.shape[0]):\n",
    "        res.append(cosine(x[i], y))\n",
    "    return res"
   ]
  },
  {
   "cell_type": "code",
   "execution_count": null,
   "id": "d91ea528-e432-4583-af51-61e5a1f26289",
   "metadata": {},
   "outputs": [],
   "source": [
    "fig, ax = plt.subplots(3,2 , figsize=(30,45))\n",
    "ax[0,0].scatter(x_pacmap_n[:,0], x_pacmap_n[:,1], c= norm(np.dot(act, x_mf)),s=5, cmap=cmc.berlin)\n",
    "ax[0,0].set_title(\" Randomly Sampled Embeddings (Distance to FEMALE Direction)\")\n",
    "\n",
    "ax[0,1].scatter(x_pacmap_n[:,0], x_pacmap_n[:,1], c= norm(np.dot(act, x_mental)),s=5, cmap=cmc.berlin)\n",
    "ax[0,1].set_title(\" Randomly Sampled Embeddings (Distance to MENTAL Direction)\")\n",
    "\n",
    "ax[1,0].scatter(x_pacmap_n[:,0], x_pacmap_n[:,1], c= norm(np.dot(act, x_income)),s=5, cmap=cmc.berlin)\n",
    "ax[1,0].set_title(\" Randomly Sampled Embeddings (Distance to HIGH INCOME Direction)\")\n",
    "\n",
    "ax[1,1].scatter(x_pacmap_n[:,0], x_pacmap_n[:,1], c= norm(np.dot(act, x_prof)),s=5, cmap=cmc.berlin)\n",
    "ax[1,1].set_title(\" Randomly Sampled Embeddings (Distance to ASSOC. PROF Direction)\")\n",
    "\n",
    "ax[2,1].scatter(x_pacmap_n[:,0], x_pacmap_n[:,1], c= norm(np.dot(act, x_craft)),s=5, cmap=cmc.berlin)\n",
    "ax[2,1].set_title(\" Randomly Sampled Embeddings (Distance to CRAFTS Direction)\")\n",
    "\n",
    "ax[2,0].scatter(x_pacmap_n[:,0], x_pacmap_n[:,1], c= norm(np.dot(act, x_neural)),s=5, cmap=cmc.berlin)\n",
    "ax[2,0].set_title(\" Randomly Sampled Embeddings (Distance to NEURAL Direction)\")\n",
    "\n",
    "plt.tight_layout()\n",
    "plt.savefig(save_path + \"people_embedding_scoring_pacmap.svg\", format=\"svg\")\n",
    "plt.show()"
   ]
  },
  {
   "attachments": {},
   "cell_type": "markdown",
   "id": "171cb4f6-052b-46ee-9218-1c6dc2483e7b",
   "metadata": {},
   "source": [
    "#### Edge Cases"
   ]
  },
  {
   "cell_type": "code",
   "execution_count": null,
   "id": "9ea16276-a505-459e-b3bf-0766bf142b25",
   "metadata": {},
   "outputs": [],
   "source": [
    "with open('../analysis/tcav/sample_meta/%s_decoder.identity/meta.pkl' %v, \"rb\") as f:\n",
    "    meta = pickle.load(f)  \n",
    "    meta[\"prb\"] = softmax(meta[\"predictions\"], -1)[:,1]"
   ]
  },
  {
   "cell_type": "code",
   "execution_count": null,
   "id": "36b084c8-1320-4672-8c9f-206d5497e3f6",
   "metadata": {},
   "outputs": [],
   "source": [
    "dateparser = lambda x: pd.to_datetime(x, format = '%d%b%Y:%X',  errors='coerce')\n",
    "\n",
    "lines_data = pd.read_csv(r\"K:\\\\22SSI\\\\Germans\\\\rawdata\\\\eos\\PRETTY_LINES_V3.csv\",  encoding=\"latin\", sep = \";\",\n",
    "                 usecols=[\"PERSON_ID\", \"EVENT_CAUSE_FINAL\", \"EVENT_FINAL_DATE\", \"QUALITY_INFORMATION_FINAL\", \"KILDE_FINAL\", \"NUMBER_EVENTS_PERSON\"],\n",
    "                 parse_dates=[\"EVENT_FINAL_DATE\"], date_parser=dateparser)"
   ]
  },
  {
   "cell_type": "code",
   "execution_count": null,
   "id": "9e8ef341-aa07-4aa7-b393-cdebc63cb383",
   "metadata": {},
   "outputs": [],
   "source": [
    "dsa = pd.read_csv(r\"..\\\\rawdata\\\\eos\\DODSAASG2019.csv\", encoding=\"latin\", sep = \";\",)"
   ]
  },
  {
   "cell_type": "code",
   "execution_count": null,
   "id": "65bd20d7-9995-41ef-971f-632455e74729",
   "metadata": {},
   "outputs": [],
   "source": [
    "#edges = np.array(meta[\"sequence_ids\"])[(t == 1) & (probs >= 0.82) & (probs < 1.)]\n",
    "edges = np.array(meta[\"sequence_ids\"])[(t == 1) & (probs <= 0.07)]\n",
    "r = dsa[dsa[\"PERSON_ID\"].isin(edges)][[ \"V_ALDER\", \"C_DOD_1A\",\n",
    "'C_DODSMAADE', \"C_DODTILGRUNDL_ACME\", \"C_LISTEA\", \"C_LISTEB\", \"PERSON_ID\"]]#.groupby(\"C_LISTEA\").count()"
   ]
  },
  {
   "cell_type": "code",
   "execution_count": null,
   "id": "0c5750a3-cb7a-437f-af98-dc7924f254a2",
   "metadata": {},
   "outputs": [],
   "source": [
    "rr = r[\"V_ALDER\"].values\n",
    "rr[-3:].sum()/rr.sum()"
   ]
  },
  {
   "cell_type": "code",
   "execution_count": null,
   "id": "0abd9eb1-fd20-45f4-99c7-3ca9f55d7063",
   "metadata": {},
   "outputs": [],
   "source": [
    "r"
   ]
  },
  {
   "cell_type": "code",
   "execution_count": null,
   "id": "bc45d271-1498-49c0-b005-53c464a174ea",
   "metadata": {},
   "outputs": [],
   "source": []
  }
 ],
 "metadata": {
  "kernelspec": {
   "display_name": "Python 3 (ipykernel)",
   "language": "python",
   "name": "python3"
  },
  "language_info": {
   "codemirror_mode": {
    "name": "ipython",
    "version": 3
   },
   "file_extension": ".py",
   "mimetype": "text/x-python",
   "name": "python",
   "nbconvert_exporter": "python",
   "pygments_lexer": "ipython3",
   "version": "3.9.7"
  }
 },
 "nbformat": 4,
 "nbformat_minor": 5
}
