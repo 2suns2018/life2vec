{
 "cells": [
  {
   "cell_type": "code",
   "execution_count": null,
   "id": "d1129fba-874f-4818-9670-0f5b77f38e69",
   "metadata": {},
   "outputs": [],
   "source": [
    "import numpy as np\n",
    "import matplotlib.pyplot as plt\n",
    "import seaborn as sns\n",
    "import pickle\n",
    "import cmcrameri.cm as cmc\n",
    "sns.set_style(\"white\", {\"grid.linestyle\": (0, (1,1)), \n",
    "                        \"axes.edgecolor\": \"gray\",\n",
    "                        \"axes.linewidth\": 0.5})\n",
    "import os\n",
    "plt.rcParams[\"figure.figsize\"] = [13., 13.]\n",
    "plt.rcParams[\"font.family\"] = \"sans-serif\"\n",
    "plt.rcParams[\"font.sans-serif\"] = \"Helvetica\"\n",
    "title_font = {\"size\": 15, \"weight\": \"bold\", \"y\":1.05, \"horizontalalignment\":\"center\", \"verticalalignment\":\"center\"}\n",
    "label_font = {\"size\": 20, \"labelspacing\": 0.1}"
   ]
  },
  {
   "attachments": {},
   "cell_type": "markdown",
   "id": "4c6d61f7",
   "metadata": {},
   "source": [
    "#### Description\n",
    "Radar/Spider plots to visualise TCAV scores."
   ]
  },
  {
   "cell_type": "code",
   "execution_count": null,
   "id": "b35f31b7-5b5a-453b-a372-b774d8fcb812",
   "metadata": {},
   "outputs": [],
   "source": [
    "cmap = cmc.batlowS\n",
    "cmap"
   ]
  },
  {
   "cell_type": "code",
   "execution_count": null,
   "id": "773b849b-c477-4652-9040-f93d2008010e",
   "metadata": {},
   "outputs": [],
   "source": [
    "v = 4.02\n",
    "load_path =  r\"../analysis/tcav/plots/%s/\" %v\n",
    "try:\n",
    "    os.mkdir(load_path)\n",
    "except:\n",
    "    pass"
   ]
  },
  {
   "cell_type": "code",
   "execution_count": null,
   "id": "93b835a3-6333-41b0-995c-c37ea55094ec",
   "metadata": {},
   "outputs": [],
   "source": [
    "def make_plot(mu: list, mad: list, concepts: list, quantiles: list,  r_mu: float, r_mad: float, title: str):\n",
    "    theta = np.linspace(0, 2 * np.pi, len(concepts), endpoint = False).tolist()\n",
    "    theta += theta[:1]\n",
    "    concepts += concepts[:1]\n",
    "    mad += mad[:1]\n",
    "    mu += mu[:1]\n",
    "    quantiles += quantiles[:1]\n",
    "    mad_l = [x - y for x, y in zip(mu,mad)]\n",
    "    mad_h = [x + y for x,y in zip(mu,mad)]\n",
    "    std_l  =[x - y for x, y in zip(mu,quantiles)]\n",
    "    std_h = [x - y for x, y in zip(mu,quantiles)]\n",
    "\n",
    "    r_mu = [r_mu] * len(mu)\n",
    "    r_mad = [r_mad] * len(mu)\n",
    "    r_mad_l = [r_mu[-1] - r_mad[-1]] * len(mu)\n",
    "    r_mad_h = [r_mu[-1] + r_mad[-1]] * len(mu)\n",
    "\n",
    "    \n",
    "    fig, ax = plt.subplots(subplot_kw=dict(projection=\"polar\"))\n",
    "    plt.grid(linewidth=2)\n",
    "    \n",
    "    ## RANDOM\n",
    "    #ax.fill_between(theta, r_mad_l, r_mad_h, alpha=0.1, color=cmap(3))\n",
    "    ax.fill_between(theta, 0.0, r_mad_h, alpha=0.15, color=cmap(3))\n",
    "    ax.plot(theta, r_mu, color=cmap(3),  alpha= 0.9, label=\"Random\", \n",
    "            linewidth=3, marker=\"o\", markersize = 12)\n",
    "    ### CONCEPT\n",
    "    #ax.fill_between(theta, std_l, std_h, alpha=0.3, color=\"#bbd3f3\")\n",
    "    ax.fill_between(theta, mad_l, mad_h, alpha=0.55, color=cmap(2))\n",
    "    ax.plot(theta, mu, color=cmap(2), label=\"Concept Scores\", \n",
    "            linewidth=3.5, marker=\"o\", markersize=14) # concept\n",
    "    plt.setp(ax.spines.values(),linewidth=0)\n",
    "    plt.setp(ax.get_yticklabels(), fontsize=17)\n",
    "    ax.set_theta_offset(np.pi/2)\n",
    "    ax.set_theta_direction(-1)\n",
    "    ax.set_thetagrids(np.degrees(theta), concepts)\n",
    "    for i, (label, angle) in enumerate(zip(ax.get_xticklabels(), theta)):\n",
    "        if i==0:\n",
    "            label.set_size(0)\n",
    "        else:\n",
    "            label.set_size(label_font[\"size\"])\n",
    "        if angle in (0, np.pi):\n",
    "            label.set_horizontalalignment(\"center\")\n",
    "        elif 0 < angle < np.pi:\n",
    "            label.set_horizontalalignment(\"left\")\n",
    "        else:\n",
    "            label.set_horizontalalignment(\"right\")\n",
    "        \n",
    "    ax.set_ylim(0,1.05)\n",
    "    ax.set_rlabel_position(180/(len(concepts)-1))\n",
    "    ax.set_title(title, **title_font)\n",
    "    ax.legend(loc=\"upper right\", bbox_to_anchor=(1.3, 1.1))\n",
    "    return fig"
   ]
  },
  {
   "cell_type": "code",
   "execution_count": null,
   "id": "d929a95b-ed48-43dc-b4a8-08743abae903",
   "metadata": {},
   "outputs": [],
   "source": [
    "to_use = [\"mental\", \"sex_fm\", \"infection\",\"income\", \"managers\", \"agriculture\", \"operators\"]"
   ]
  },
  {
   "attachments": {},
   "cell_type": "markdown",
   "id": "81df51fd-cc6a-4657-8176-aea332b7cb58",
   "metadata": {},
   "source": [
    "## Sign-based"
   ]
  },
  {
   "cell_type": "code",
   "execution_count": null,
   "id": "db0a901a-5b75-438b-bfa2-2fda71499c96",
   "metadata": {},
   "outputs": [],
   "source": [
    "## load data \n",
    "with open(load_path + \"agg_pos.pkl\", \"rb\") as f:\n",
    "    stat = pickle.load(f)\n",
    "stat.keys()\n",
    "concept_dict = {}\n",
    "r_mu = stat[\"random\"][\"median\"]\n",
    "r_mad = stat[\"random\"][\"b_dev\"] \n",
    "for c in to_use:\n",
    "    concept_dict[c] = stat[c]"
   ]
  },
  {
   "cell_type": "code",
   "execution_count": null,
   "id": "7c7777f3-265a-4f18-85df-52f3375bcb93",
   "metadata": {},
   "outputs": [],
   "source": [
    "# concepts = [ \"Neural Diagnosis\", \"Mental and Behavioural Diagnosis\", \"High Income\",  \n",
    "#             \"Managerial Position\", \"Clerical Support workers\", \n",
    "#             \"Work in Agriculture\", \"Infectious Decease\"]\n",
    "concepts = [k for k in concept_dict.keys()]\n",
    "mu =  [x[\"median\"] for x in concept_dict.values()]\n",
    "mad = [x[\"b_dev\"]  for x in concept_dict.values()]\n",
    "q = [x[\"std\"] for x in concept_dict.values()]\n",
    "\n",
    "title = \"Concept Influences on the increase of the 'Death' outcome\"\n",
    "\n",
    "fig = make_plot(mu=mu, mad=mad, r_mu = r_mu, r_mad = r_mad, title=title, concepts=concepts, quantiles = q)\n",
    "plt.tight_layout()\n",
    "plt.show()\n",
    "\n",
    "fig.savefig(load_path + \"tcav_d.svg\", format=\"svg\")"
   ]
  },
  {
   "cell_type": "code",
   "execution_count": null,
   "id": "0fe8fb14-84ef-49b3-ab6f-815440ba39fa",
   "metadata": {},
   "outputs": [],
   "source": [
    "## load data \n",
    "with open(load_path + \"agg_neg.pkl\", \"rb\") as f:\n",
    "    stat = pickle.load(f)\n",
    "stat.keys()\n",
    "concept_dict = {}\n",
    "r_mu = stat[\"random\"][\"median\"]\n",
    "r_mad = stat[\"random\"][\"b_dev\"]\n",
    "for c in to_use:\n",
    "    concept_dict[c] = stat[c]\n",
    "    \n",
    "    \n",
    "concepts = [k for k in concept_dict.keys()]\n",
    "mu =  [x[\"median\"] for x in concept_dict.values()]\n",
    "mad = [x[\"b_dev\"]  for x in concept_dict.values()]\n",
    "q = [x[\"std\"] for x in concept_dict.values()]\n",
    "\n",
    "title = \"Concept Influences on the increase of the 'Survive' outcome\"\n",
    "\n",
    "fig = make_plot(mu=mu, mad=mad, r_mu = r_mu, r_mad = r_mad, title=title, concepts=concepts, quantiles=q)\n",
    "plt.tight_layout()\n",
    "plt.show()\n",
    "\n",
    "fig.savefig(load_path + \"tcav_s.svg\", format=\"svg\")\n"
   ]
  },
  {
   "attachments": {},
   "cell_type": "markdown",
   "id": "4b5ddd11-7687-4cc2-8ce0-f7fc26399f82",
   "metadata": {},
   "source": [
    "## Magnitude-based"
   ]
  },
  {
   "cell_type": "code",
   "execution_count": null,
   "id": "d5852884-8b2c-4f0b-9adb-a5c6a6b5b841",
   "metadata": {},
   "outputs": [],
   "source": []
  },
  {
   "cell_type": "code",
   "execution_count": null,
   "id": "90408213-4e8a-4f9c-b2e9-1a3352072139",
   "metadata": {},
   "outputs": [],
   "source": [
    "# concepts = [ \"Neural Diagnosis\", \"Mental and Behavioural Diagnosis\", \"High Income\",  \n",
    "#             \"Managerial Position\", \"Clerical Support workers\", \n",
    "#             \"Work in Agriculture\", \"Infectious Decease\"]\n",
    "## load data \n",
    "with open(load_path + \"M_agg_pos.pkl\", \"rb\") as f:\n",
    "    stat = pickle.load(f)\n",
    "stat.keys()\n",
    "concept_dict = {}\n",
    "r_mu = stat[\"random\"][\"median\"]\n",
    "r_mad = stat[\"random\"][\"b_dev\"] \n",
    "for c in to_use:\n",
    "    concept_dict[c] = stat[c]\n",
    "\n",
    "concepts = [k for k in concept_dict.keys()]\n",
    "mu =  [x[\"median\"] for x in concept_dict.values()]\n",
    "mad = [x[\"b_dev\"]  for x in concept_dict.values()]\n",
    "q = [x[\"std\"] for x in concept_dict.values()]\n",
    "\n",
    "title = \"(M) Concept Influences on the increase of the 'Death' outcome\"\n",
    "\n",
    "fig = make_plot(mu=mu, mad=mad, r_mu = r_mu, r_mad = r_mad, title=title, concepts=concepts, quantiles = q)\n",
    "plt.tight_layout()\n",
    "plt.show()\n",
    "\n",
    "fig.savefig(load_path + \"m_tcav_d.svg\", format=\"svg\")"
   ]
  },
  {
   "cell_type": "code",
   "execution_count": null,
   "id": "f68dbb6c-83e4-40be-9297-9421b3e31e20",
   "metadata": {},
   "outputs": [],
   "source": [
    "## load data \n",
    "with open(load_path + \"M_agg_neg.pkl\", \"rb\") as f:\n",
    "    stat = pickle.load(f)\n",
    "stat.keys()\n",
    "concept_dict = {}\n",
    "r_mu = stat[\"random\"][\"median\"]\n",
    "r_mad = stat[\"random\"][\"b_dev\"]\n",
    "for c in to_use:\n",
    "    concept_dict[c] = stat[c]\n",
    "    \n",
    "    \n",
    "concepts = [k for k in concept_dict.keys()]\n",
    "mu =  [x[\"median\"] for x in concept_dict.values()]\n",
    "mad = [x[\"b_dev\"]  for x in concept_dict.values()]\n",
    "q = [x[\"std\"] for x in concept_dict.values()]\n",
    "\n",
    "title = \"(M) Concept Influences on the increase of the 'Survive' outcome\"\n",
    "\n",
    "fig = make_plot(mu=mu, mad=mad, r_mu = r_mu, r_mad = r_mad, title=title, concepts=concepts, quantiles=q)\n",
    "plt.tight_layout()\n",
    "plt.show()\n",
    "\n",
    "fig.savefig(load_path + \"M_tcav_s.svg\", format=\"svg\")\n"
   ]
  },
  {
   "cell_type": "code",
   "execution_count": null,
   "id": "f5f0bea0-850a-4b35-a18b-e886a8677587",
   "metadata": {},
   "outputs": [],
   "source": []
  }
 ],
 "metadata": {
  "kernelspec": {
   "display_name": "Python 3 (ipykernel)",
   "language": "python",
   "name": "python3"
  },
  "language_info": {
   "codemirror_mode": {
    "name": "ipython",
    "version": 3
   },
   "file_extension": ".py",
   "mimetype": "text/x-python",
   "name": "python",
   "nbconvert_exporter": "python",
   "pygments_lexer": "ipython3",
   "version": "3.9.7"
  }
 },
 "nbformat": 4,
 "nbformat_minor": 5
}
